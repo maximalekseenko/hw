{
  "cells": [
    {
      "cell_type": "code",
      "execution_count": null,
      "metadata": {},
      "outputs": [],
      "source": [
        "ALPHABET = \"АБВГДЕЖЗИКЛМНОПРСТУФХЦЧШЩЪЫЬЭЮЯ\"\n",
        "\n",
        "CHAR_WEIGHT = {\n",
        "    ' ': 0.175, 'Р': 0.040, 'Я': 0.018, 'Х': 0.009, \n",
        "    'О': 0.090, 'В': 0.038, 'Ы': 0.016, 'Ж': 0.007, \n",
        "    'Е': 0.072, 'Л': 0.035, 'З': 0.016, 'Ю': 0.006, \n",
        "    'А': 0.062, 'К': 0.028, 'Ъ': 0.014, 'Ш': 0.006, \n",
        "    'И': 0.062, 'М': 0.026, 'Б': 0.014, 'Ц': 0.004, \n",
        "    'Н': 0.053, 'Д': 0.025, 'Г': 0.013, 'Щ': 0.003, \n",
        "    'Т': 0.053, 'П': 0.023, 'Ч': 0.012, 'Э': 0.003, \n",
        "    'С': 0.045, 'У': 0.021, 'Й': 0.010, 'Ф': 0.002,\n",
        "}\n",
        "\n",
        "def Decode(__text:str) -> dict[str, float]:\n",
        "    def _Get_Next_Text(__text:str, __key:int) -> str:\n",
        "        _out_text = \"\"\n",
        "        for _char in __text:\n",
        "            if _char in ALPHABET:\n",
        "                _out_index = ALPHABET.index(_char)\n",
        "                _out_text += ALPHABET[(_out_index + __key) % len(ALPHABET)]\n",
        "            else:\n",
        "                _out_text += _char\n",
        "        return _out_text\n",
        "\n",
        "    def _Get_Text_Weight(__text:str) -> float:\n",
        "        _out_weight = 0\n",
        "        for _char in __text:\n",
        "            if _char in CHAR_WEIGHT:\n",
        "                _out_weight += CHAR_WEIGHT[_char]\n",
        "        return _out_weight\n",
        "\n",
        "    _out_texts = {}\n",
        "    for _i in range(len(ALPHABET)):\n",
        "        _new_text = _Get_Next_Text(__text, _i + 1)\n",
        "        _out_texts[_new_text] = _Get_Text_Weight(_new_text)\n",
        "    return sorted(\n",
        "            _out_texts.items(), \n",
        "            key=lambda _item: _item[1],\n",
        "            reverse=True\n",
        "        )\n",
        "    \n",
        "\n",
        "        \n"
      ]
    },
    {
      "cell_type": "code",
      "execution_count": null,
      "metadata": {},
      "outputs": [],
      "source": [
        "TEXT = \"АБВГДЕЖЗИКЛМНО\"\n",
        "\n",
        "from pprint import pprint\n",
        "pprint(Decode(TEXT))"
      ]
    }
  ],
  "metadata": {
    "colab": {
      "collapsed_sections": [],
      "name": "Тема 10. Визуализация данных.Табличные данные.ipynb",
      "provenance": []
    },
    "hide_input": false,
    "kernelspec": {
      "display_name": "Python 3",
      "language": "python",
      "name": "python3"
    },
    "language_info": {
      "codemirror_mode": {
        "name": "ipython",
        "version": 3
      },
      "file_extension": ".py",
      "mimetype": "text/x-python",
      "name": "python",
      "nbconvert_exporter": "python",
      "pygments_lexer": "ipython3",
      "version": "3.10.7"
    },
    "latex_envs": {
      "LaTeX_envs_menu_present": true,
      "autoclose": false,
      "autocomplete": true,
      "bibliofile": "biblio.bib",
      "cite_by": "apalike",
      "current_citInitial": 1,
      "eqLabelWithNumbers": true,
      "eqNumInitial": 1,
      "hotkeys": {
        "equation": "Ctrl-E",
        "itemize": "Ctrl-I"
      },
      "labels_anchors": false,
      "latex_user_defs": false,
      "report_style_numbering": false,
      "user_envs_cfg": false
    },
    "nbTranslate": {
      "displayLangs": [
        "*"
      ],
      "hotkey": "alt-t",
      "langInMainMenu": true,
      "sourceLang": "en",
      "targetLang": "fr",
      "useGoogleTranslate": true
    },
    "toc": {
      "base_numbering": 1,
      "nav_menu": {},
      "number_sections": false,
      "sideBar": true,
      "skip_h1_title": true,
      "title_cell": "Table of Contents",
      "title_sidebar": "Contents",
      "toc_cell": false,
      "toc_position": {},
      "toc_section_display": true,
      "toc_window_display": false
    },
    "varInspector": {
      "cols": {
        "lenName": 16,
        "lenType": 16,
        "lenVar": 40
      },
      "kernels_config": {
        "python": {
          "delete_cmd_postfix": "",
          "delete_cmd_prefix": "del ",
          "library": "var_list.py",
          "varRefreshCmd": "print(var_dic_list())"
        },
        "r": {
          "delete_cmd_postfix": ") ",
          "delete_cmd_prefix": "rm(",
          "library": "var_list.r",
          "varRefreshCmd": "cat(var_dic_list()) "
        }
      },
      "types_to_exclude": [
        "module",
        "function",
        "builtin_function_or_method",
        "instance",
        "_Feature"
      ],
      "window_display": false
    }
  },
  "nbformat": 4,
  "nbformat_minor": 0
}
