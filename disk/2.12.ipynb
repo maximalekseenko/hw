{
  "cells": [
    {
      "cell_type": "code",
      "execution_count": 1,
      "metadata": {},
      "outputs": [
        {
          "name": "stdout",
          "output_type": "stream",
          "text": [
            "your encrypted_text is : b';1\\x9a#\\x99\\xba\\x05RJ\\xd3\\xcav\\x1a\\xe7\\xd4\\x8b\\x03\\xae\\xdc\\xca\\x04S\\x15\\xd8\\x93\\x06e\\xbcm\\xcd\\xfc\\x15\\\\q^\\xcfV\\xcf\\xd0\\x1e\\xab\\xaa7x\\\\2\\xd6\\xbe\\x84\\x14\"\\x1c]\\x01s\\xcfP.\\xdbsv\\x8e\\x9f\\xb8\\xb2\\xf0)\\xfa\\xb5\\xb2\\x14\\xed\\xee>\\xf6Gb\\xe1n6R\\xe1CU\\xb9\\xf2\\\\g\\x13\\x11O\\xc8iZE\\x8e\\x90{\\x12\\xed\\xef\\x1e\\x9dR\\xe1\\xc2\\xd5\\xfe\\x1e\\xd3\\xa9\\xb1\\x88\\xd5JO9\\xc7\\xfc\\xd8\\x11\\xeb>\\xa3&\\x91\\xf5\\x13\\xb5\\xef\\tDMq\\xd0\\x0b\\xa7N\\xc90\\x0c\\xee}K\\xbb\\x80N\\x92\\xb4\\x8c\\x1c\\x0e\\x1b\\xb7\\xe2\\xfc{\\xb9\\xfdh\\n\\x01\\xfe\\x18:Y\\xa7K\\\\;\\xd5\\xd7\\xfc\\x9bO0\\xb4\\xbd\\xf5\\xc64\\xd5\\xc7\\xa7k\\xa8\\'\\x8b\"\\t(%\\xe3\\xba\\x19\\x11\\xbd\\x8b\\xef\\xc2\\x95\\xc4V\\xb0}\\xb5\\xc6\\xb2B\\x89\\xc0\\x9b\\x12\\x08\\x0c\\x1b\\xf8J\\x10\\xa2\\xe8\\x1e\\xf8\\xd7\\x04\\xff\\xba\\x16\\xba\\x89\\x0b-\\xae&\\x0c\\xde\\xe8\\x05\\x12\\xc4v\\xa9k\\x8f\\xa0\\xff\\xa5?\\xc4\\xc2\\xca\\x1b\\xdfG\\xd6\\x97'\n",
            "your decrypted_text is : b'Hello'\n"
          ]
        }
      ],
      "source": [
        "from Crypto.PublicKey import RSA\n",
        "from Crypto.Cipher import PKCS1_OAEP\n",
        "\n",
        "\n",
        "def rsa_encrypt_decrypt():\n",
        "    key = RSA.generate(2048)\n",
        "    private_key = key.export_key('PEM')\n",
        "    public_key = key.publickey().exportKey('PEM')\n",
        "    message = input('plain text for RSA encryption and decryption:')\n",
        "    message = str.encode(message)\n",
        "\n",
        "    rsa_public_key = RSA.importKey(public_key)\n",
        "    rsa_public_key = PKCS1_OAEP.new(rsa_public_key)\n",
        "    encrypted_text = rsa_public_key.encrypt(message)\n",
        "\n",
        "    print('your encrypted_text is : {}'.format(encrypted_text))\n",
        "\n",
        "    rsa_private_key = RSA.importKey(private_key)\n",
        "    rsa_private_key = PKCS1_OAEP.new(rsa_private_key)\n",
        "    decrypted_text = rsa_private_key.decrypt(encrypted_text)\n",
        "\n",
        "    print('your decrypted_text is : {}'.format(decrypted_text))\n",
        "rsa_encrypt_decrypt()"
      ]
    }
  ],
  "metadata": {
    "colab": {
      "collapsed_sections": [],
      "name": "Тема 10. Визуализация данных.Табличные данные.ipynb",
      "provenance": []
    },
    "hide_input": false,
    "kernelspec": {
      "display_name": "Python 3",
      "language": "python",
      "name": "python3"
    },
    "language_info": {
      "codemirror_mode": {
        "name": "ipython",
        "version": 3
      },
      "file_extension": ".py",
      "mimetype": "text/x-python",
      "name": "python",
      "nbconvert_exporter": "python",
      "pygments_lexer": "ipython3",
      "version": "3.10.7"
    },
    "latex_envs": {
      "LaTeX_envs_menu_present": true,
      "autoclose": false,
      "autocomplete": true,
      "bibliofile": "biblio.bib",
      "cite_by": "apalike",
      "current_citInitial": 1,
      "eqLabelWithNumbers": true,
      "eqNumInitial": 1,
      "hotkeys": {
        "equation": "Ctrl-E",
        "itemize": "Ctrl-I"
      },
      "labels_anchors": false,
      "latex_user_defs": false,
      "report_style_numbering": false,
      "user_envs_cfg": false
    },
    "nbTranslate": {
      "displayLangs": [
        "*"
      ],
      "hotkey": "alt-t",
      "langInMainMenu": true,
      "sourceLang": "en",
      "targetLang": "fr",
      "useGoogleTranslate": true
    },
    "toc": {
      "base_numbering": 1,
      "nav_menu": {},
      "number_sections": false,
      "sideBar": true,
      "skip_h1_title": true,
      "title_cell": "Table of Contents",
      "title_sidebar": "Contents",
      "toc_cell": false,
      "toc_position": {},
      "toc_section_display": true,
      "toc_window_display": false
    },
    "varInspector": {
      "cols": {
        "lenName": 16,
        "lenType": 16,
        "lenVar": 40
      },
      "kernels_config": {
        "python": {
          "delete_cmd_postfix": "",
          "delete_cmd_prefix": "del ",
          "library": "var_list.py",
          "varRefreshCmd": "print(var_dic_list())"
        },
        "r": {
          "delete_cmd_postfix": ") ",
          "delete_cmd_prefix": "rm(",
          "library": "var_list.r",
          "varRefreshCmd": "cat(var_dic_list()) "
        }
      },
      "types_to_exclude": [
        "module",
        "function",
        "builtin_function_or_method",
        "instance",
        "_Feature"
      ],
      "window_display": false
    }
  },
  "nbformat": 4,
  "nbformat_minor": 0
}
