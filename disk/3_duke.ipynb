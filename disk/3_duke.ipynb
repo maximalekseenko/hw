{
 "cells": [
  {
   "cell_type": "markdown",
   "id": "1ee388e8",
   "metadata": {},
   "source": [
    "# Графы"
   ]
  },
  {
   "cell_type": "markdown",
   "id": "31fe6bcc",
   "metadata": {},
   "source": [
    "## Определение графов. "
   ]
  },
  {
   "cell_type": "markdown",
   "id": "6cbbbe70",
   "metadata": {},
   "source": [
    "\n",
    " Неориентированным графом (или графом) называется пара $(V,E)$, где $V = \\{v_1, v_2,... \\}$ — множество вершин, $E = \\{e_1, e_2,... \\}$ — множество ребер, в котором каждый элемент $e_k$ является неупорядоченной парой $\\{v_i, v_j\\}$. Пара $(V,E)$, в которой множество $E$ состоит из упорядоченных пар $(v_i, v_j )$, называется ориентированным графом, а элементы из $E$ — дугами, или ориентированными ребрами. Вершины $v_i$ и $v_j$ , составляющие ребро или дугу, называются концевыми вершинами ребра или дуги, а про ребро и дугу говорят, что они соединяют свои концевые вершины.<br/> <br/>\n"
   ]
  },
  {
   "cell_type": "markdown",
   "id": "26e31d3b",
   "metadata": {},
   "source": [
    "## Локальные характеристики"
   ]
  },
  {
   "cell_type": "markdown",
   "id": "ccdb2118",
   "metadata": {},
   "source": [
    "Если $ e=\\{v_i, v_j\\} $– ребро графа, то вершина $ v_i $ и ребро е инцидентны.  Вершина $ v_j $ и ребро е также инцидентны.<br/>\n",
    "Вершины, инцидентные одному ребру, называются смежными.<br/>\n",
    "Два ребра смежные, если инцидентны одной вершине.<br/>\n",
    "Число вершин графа называется его порядком.<br/>\n",
    "Число ребер графа, инцидентных данной вершине $vi$ , называется степенью $p(v_i)$ вершины $vi$ (другое обозначение $deg(v_i)$).<br/>\n",
    "Если $ p(v_i)$ то $v_i$ – изолированная вершина, если $p(v_i)=1$, то $v_i$ – висячая вершина.<br/>\n",
    "Если концевые вершины совпадают, то дугу $e=(v_i, v_j)$ называют петлей. <br/>\n",
    "Очевидно, что для неориентированного графа $\\{v_i, v_j\\}=\\{v_j, v_i\\}$, а для ориентированного $(v_i, v_j)\\neq (v_j, v_i)$ .\n"
   ]
  },
  {
   "cell_type": "markdown",
   "id": "5eb6495a",
   "metadata": {},
   "source": [
    "Нетрудно подсчитать число графов с фиксированным множеством вершин. Обозначим через $ N_g $ число неориентированных графов без петель с множеством вершин n.\n",
    "<dt>Теорема (О количестве графов)</dt>\n",
    " $$ N_g = 2^{\\frac{n(n-1)}{2}} $$\n",
    "\n"
   ]
  },
  {
   "cell_type": "markdown",
   "id": "e8785f8f",
   "metadata": {},
   "source": [
    "<dt>Теорема (Лемма о рукопожатиях)</dt> Сумма степеней всех вершин графа равна удвоенному числу ребер:  \n",
    "    $$ \\sum p(v_i)=2|E| $$\n"
   ]
  },
  {
   "cell_type": "markdown",
   "id": "b4003ab7",
   "metadata": {},
   "source": [
    "<dt>Следствие</dt> Сумма степеней вершин графа всегда четное число."
   ]
  },
  {
   "cell_type": "markdown",
   "id": "9d0d01ae",
   "metadata": {},
   "source": [
    "<dt>Теорема</dt>\tВ любом графе число вершин нечетной степени четно.\n"
   ]
  },
  {
   "cell_type": "markdown",
   "id": "8efea77a",
   "metadata": {},
   "source": [
    "## Способы представления графов"
   ]
  },
  {
   "cell_type": "markdown",
   "id": "a53868fa",
   "metadata": {},
   "source": [
    "### Графическое представление графов. представление в виде списков смежности"
   ]
  },
  {
   "cell_type": "markdown",
   "id": "7e31a24f",
   "metadata": {},
   "source": [
    "Обычно граф изображают на плоскости в виде множества точек, соответствующих вершинам, и множества линий, которые соединяют вершины и соответствуют ребрам. При изображении ориентированных графов линии снабжаются стрелками, указывающими ориентацию дуги, т. е. порядок вершин в паре."
   ]
  },
  {
   "cell_type": "markdown",
   "id": "eb9279ad",
   "metadata": {},
   "source": [
    "Для работы с графами можно использовать библиотеку NetworkX, предназначенную для создания, манипуляции и изучения структуры, динамики и функционирования сложных сетевых структур. Внутреннее представление графов реализовано в виде списков смежности. <br/>\n",
    "Основные возможности библиотеки:\n",
    "<ol>\n",
    "    <li>Классы для работы с простыми, ориентированными и взвешенными графами</li>\n",
    "    <li>Узлом может быть практически что угодно: time-series, текст, изображение, XML</li>\n",
    "    <li>Сохранение / загрузка графов в/из наиболее распространённых форматов файлов хранения графов</li>\n",
    "    <li>Встроенные процедуры для создания графов базовых типов</li>\n",
    "    <li>Методы для обнаружения подграфов, клик и К-дольных графов (K-core) ( максимальный подграф в котором каждая вершина имеет по крайней мере уровень К )</li>\n",
    "    <li>Получение таких характеристик графа как степени вершин, высота графа, диаметр, радиус, длинны путей, центр, промежуточности, и т. д.</li>\n",
    "    <li>Визуализировать сети в виде 2D и 3D графиков</li>\n",
    "</ol>\n"
   ]
  },
  {
   "cell_type": "code",
   "execution_count": null,
   "id": "98e1dde0",
   "metadata": {},
   "outputs": [],
   "source": [
    "#Если требуется установить библиотеку\n",
    "# !pip install networkx"
   ]
  },
  {
   "cell_type": "code",
   "execution_count": null,
   "id": "b254ada3",
   "metadata": {},
   "outputs": [],
   "source": [
    "import networkx as nx \n",
    "import matplotlib.pyplot as plt\n"
   ]
  },
  {
   "cell_type": "code",
   "execution_count": null,
   "id": "519b710b",
   "metadata": {},
   "outputs": [],
   "source": [
    "G = nx.Graph() # пустой неориентированный граф\n",
    "G1 = nx.DiGraph() # пустой ориентированный граф\n",
    "GG = nx.MultiGraph() # пустой мультиграф\n",
    "GG1 = nx.MultiDiGraph() # пустой ориентированный мультиграф\n",
    "\n",
    "G.add_node(1) # добавляем одину вершину, получаем тоже пустой граф\n",
    "G.add_nodes_from([3, 4, 5, 6, 7]) # добавляем еще шесть вершин сразу\n",
    "\n",
    "# В качестве обозначений вершин можем использовать ярлыки:\n",
    "G1.add_nodes_from([\"node_1\", \"node_2\"]) # пустой ориентированный граф\n",
    "\n",
    "plt.figure(figsize =(7, 10))\n",
    "plt.subplot(211)\n",
    "nx.draw_networkx(G)\n",
    "plt.show()\n",
    "\n",
    "plt.figure(figsize =(7, 10))\n",
    "plt.subplot(212)\n",
    "nx.draw_networkx(G1, with_labels = True)\n",
    "plt.show()\n"
   ]
  },
  {
   "cell_type": "code",
   "execution_count": null,
   "id": "283ba2d2",
   "metadata": {},
   "outputs": [],
   "source": [
    "# добавляем в графы ребра и дуги\n",
    "G.add_edges_from([(1, 2), (1, 3), (1, 4), (2, 4), (2, 6), (3, 6), (4,7), (5, 7)]) # для неориентированного графа\n",
    "G.add_edge(8,9) # добавление ребра с новыми вершинами, добавит их тоже\n",
    "\n",
    "plt.figure(figsize =(7, 10))\n",
    "plt.subplot(211)\n",
    "nx.draw_networkx(G)\n",
    "plt.show()\n"
   ]
  },
  {
   "cell_type": "code",
   "execution_count": null,
   "id": "d273c0ff",
   "metadata": {},
   "outputs": [],
   "source": [
    "G.nodes()"
   ]
  },
  {
   "cell_type": "code",
   "execution_count": null,
   "id": "98549f52",
   "metadata": {},
   "outputs": [],
   "source": [
    "# Количество вершин в графе G\n",
    "G.number_of_nodes()\n",
    "# G.order\n",
    "# len(G)"
   ]
  },
  {
   "cell_type": "code",
   "execution_count": null,
   "id": "b8d574e8",
   "metadata": {},
   "outputs": [],
   "source": [
    "G.edges()\n",
    "nx.write_edgelist(G, \"Graf.txt\")"
   ]
  },
  {
   "cell_type": "code",
   "execution_count": null,
   "id": "ea2178eb",
   "metadata": {},
   "outputs": [],
   "source": [
    "# количество ребер\n",
    "G.number_of_edges()"
   ]
  },
  {
   "cell_type": "code",
   "execution_count": null,
   "id": "2925c211",
   "metadata": {},
   "outputs": [],
   "source": [
    "# создание графа из файла\n",
    "G2  = nx.read_edgelist(\"Graf.txt\", nodetype = int, create_using = nx.DiGraph()) #считываем список ребер из файла, по умолчанию неориентированный\n",
    "nx.is_directed(G2)"
   ]
  },
  {
   "cell_type": "code",
   "execution_count": null,
   "id": "4316a607",
   "metadata": {
    "scrolled": true
   },
   "outputs": [],
   "source": [
    "# список соседей вершины графа\n",
    "#list(G.neighbors(1))\n",
    "print(list(nx.all_neighbors(G, 1))) # список соседних вершин\n",
    "print(list(nx.non_neighbors(G, 1))) # список остальных вершин"
   ]
  },
  {
   "cell_type": "code",
   "execution_count": null,
   "id": "be070e29",
   "metadata": {},
   "outputs": [],
   "source": [
    "G1.add_edges_from([(\"node_1\", \"node_2\")]) # для ориентированного графа\n",
    "\n",
    "plt.figure(figsize =(7, 10))\n",
    "plt.subplot(212)\n",
    "nx.draw_networkx(G1)\n",
    "plt.show()\n"
   ]
  },
  {
   "cell_type": "code",
   "execution_count": null,
   "id": "04767bda",
   "metadata": {},
   "outputs": [],
   "source": [
    "# степени вершин\n",
    "print(G.degree(1))\n",
    "G.degree()"
   ]
  },
  {
   "cell_type": "code",
   "execution_count": null,
   "id": "bd241395",
   "metadata": {},
   "outputs": [],
   "source": []
  },
  {
   "cell_type": "markdown",
   "id": "de4d11f9",
   "metadata": {},
   "source": [
    "### Представление графов виде матриц"
   ]
  },
  {
   "cell_type": "markdown",
   "id": "ad160898",
   "metadata": {},
   "source": [
    "#### Матрица смежности"
   ]
  },
  {
   "cell_type": "markdown",
   "id": "c35cad09",
   "metadata": {},
   "source": [
    "Матрицей смежности $A=A(a_{ij})$ графа G называется матрица порядка n, определенная следующим образом:\n",
    "$$a_{ij}=\\begin{cases} 1, &если& e_{ij} \\in E \\\\ 0, &если& e_{ij} \\notin  E \\end{cases} $$\n",
    " \n",
    "Матрица смежности для неориентированного графа будет симметрична относительно главной диагонали. Матрица смежности для ориентированного графа в общем случае не симметрична относительно главной диагонали."
   ]
  },
  {
   "cell_type": "code",
   "execution_count": null,
   "id": "b9ef4b36",
   "metadata": {
    "scrolled": true
   },
   "outputs": [],
   "source": [
    "plt.figure(figsize =(7, 10))\n",
    "plt.subplot(212)\n",
    "nx.draw_networkx(G)\n",
    "plt.show()\n",
    "\n",
    "a= nx.adjacency_matrix(G) # список вершин, которые соединены попарно, и веса связывающих их ребер.\n",
    "A=a.todense()  # Формируем матрицу смежности\n",
    "print(A)"
   ]
  },
  {
   "cell_type": "code",
   "execution_count": null,
   "id": "22c6a448",
   "metadata": {},
   "outputs": [],
   "source": [
    "G2 = nx.DiGraph()\n",
    "G2.add_edges_from([('q', 'w'), ('q', 'e'), ('q', 'r'), ('w', 'r'), ('w', 'y'), ('e', 'y'), ('r','u'), ('t', 'u')])\n",
    "\n",
    "plt.figure(figsize =(7, 10))\n",
    "plt.subplot(212)\n",
    "nx.draw_networkx(G2)\n",
    "plt.show()\n",
    "\n",
    "a= nx.adjacency_matrix(G2) # список вершин, которые соединены попарно.\n",
    "A=a.todense()  # Формируем матрицу смежности\n",
    "print(A)"
   ]
  },
  {
   "cell_type": "markdown",
   "id": "94a7923d",
   "metadata": {},
   "source": [
    "<dt>Теорема</dt>\tГрафы изоморфны тогда и только тогда, когда их матрицы смежности получаются друг из друга одновременными перестановками строк и столбцов (т.е. одновременно с перестановкой $i$-й и $j$-й строк переставляются $i$-й и $j$-й столбцы)."
   ]
  },
  {
   "cell_type": "markdown",
   "id": "904e294c",
   "metadata": {},
   "source": [
    "#### Матрица инцидености"
   ]
  },
  {
   "cell_type": "markdown",
   "id": "685333ab",
   "metadata": {},
   "source": [
    "Матрицей инцидентности $B=(b_{ij})$ неориентированного графа G называется матрица размера $ |V|\\times|E|$ , в которой столбцы матрицы соответствуют ребрам, строки — вершинам. Ненулевое значение в ячейке матрицы указывает связь между вершиной и ребром определяемую следующим образом: \n",
    "$$b_{ij}=\\begin{cases} 1, &если& e_{j} &инцидентна\\space вершине& a_i \\\\ 0, &иначе&  \\end{cases} $$ \n",
    "<br/>\n",
    "В случае наличия ориентированных дуг, начало и конец обозначаются противоположныти знаками\n",
    "$$b_{ij}=\\begin{cases} 1, &если& e_{j} &исходит\\space из\\space вершины& a_i \\\\ -1, &если& e_{j} &заходит\\space в\\space вершину& a_i &и\\space не\\space является\\space петлей& \\\\0, &иначе&  \\end{cases} $$\n",
    " \n"
   ]
  },
  {
   "cell_type": "code",
   "execution_count": null,
   "id": "5d0d0824",
   "metadata": {},
   "outputs": [],
   "source": [
    "a= nx.incidence_matrix(G) # список вершин, которые соединены попарно.\n",
    "A=a.todense()  # Формируем матрицу инцидентности\n",
    "print(A)"
   ]
  },
  {
   "cell_type": "code",
   "execution_count": null,
   "id": "afa251b7",
   "metadata": {},
   "outputs": [],
   "source": [
    "b= -nx.incidence_matrix(G2, oriented=True) # список вершин, которые соединены попарно.\n",
    "B=b.todense()  # Формируем матрицу инцидентности\n",
    "print(B)"
   ]
  },
  {
   "cell_type": "markdown",
   "id": "d7a85452",
   "metadata": {},
   "source": [
    "<dt>Теорема</dt>\tГрафы и  изоморфны тогда и только тогда, когда их матрицы инцидентности получаются друг из друга некоторыми перестановками строк и столбцов."
   ]
  },
  {
   "cell_type": "markdown",
   "id": "d838ad99",
   "metadata": {},
   "source": [
    "## Операции над графами"
   ]
  },
  {
   "cell_type": "markdown",
   "id": "dc315442",
   "metadata": {},
   "source": [
    "В результате операции добавления к графу $G=\\langle V,E \\rangle$  вершины  $a$ a образуется граф $G1=\\langle V\\cup \\{a\\},E \\rangle$ .<br/> В результате операции добавления дуги $e$  к графу G образуется графа $G2=\\langle V,E\\cup \\{e\\} \\rangle$.<br/>\n",
    "Под операцией удаления дуги $e$ из графа $G$ понимается операция, заключающаяся в удалении пары $(a_i, a_j)$ из множества дуг $E$. <br/>Операция удаления вершины a из графа $G$ заключается в удалении вершины a вместе с инцидентными ей дугами.<br/> При замыкании двух вершин, эти вершины удаляются из графа и заменяются одной новой, при этом ребра, инцидентные исходным вершинам, теперь будут инцидентны новой вершине. В случае, когда отождествляемые вершины соединены дугой, операцию отождествления называют стягиванием дуги.\n"
   ]
  },
  {
   "cell_type": "code",
   "execution_count": null,
   "id": "85892ea0",
   "metadata": {},
   "outputs": [],
   "source": [
    "import numpy as np\n",
    "A=np.array([[1, 0, 1, 0], \n",
    "            [1, 1, 0, 0], \n",
    "            [0, 1, 1, 0], \n",
    "            [0, 1, 1, 1]])\n",
    "G = nx.DiGraph(A)\n",
    "plt.subplot(212)\n",
    "nx.draw_networkx(G)"
   ]
  },
  {
   "cell_type": "code",
   "execution_count": null,
   "id": "059ef702",
   "metadata": {},
   "outputs": [],
   "source": [
    "# Удаление ребра\n",
    "G.remove_edge(3,1) \n",
    "plt.subplot(212)\n",
    "nx.draw_networkx(G)"
   ]
  },
  {
   "cell_type": "code",
   "execution_count": null,
   "id": "c17ab9ba",
   "metadata": {},
   "outputs": [],
   "source": [
    "# Удаление вершины\n",
    "G.remove_node(2) \n",
    "plt.subplot(212)\n",
    "nx.draw_networkx(G)\n"
   ]
  },
  {
   "cell_type": "code",
   "execution_count": null,
   "id": "2d012b55",
   "metadata": {},
   "outputs": [],
   "source": [
    "# Дополнение графа\n",
    "H = nx.complement(G)\n",
    "plt.subplot(212)\n",
    "nx.draw_networkx(H)"
   ]
  },
  {
   "cell_type": "markdown",
   "id": "fe9a389c",
   "metadata": {},
   "source": [
    "Очевидно, имеем следующие утверждения:<br/>\n",
    "У всякого графа имеется пустой подграф.<br/>\n",
    "Всякий граф является подграфом полного графа.<br/>\n",
    "Если граф G является подграфом графа G1, а граф G2 – подграфом графа G1, то G2 – подграф графа G, (то есть отношение «быть\n",
    "подграфом» транзитивно).\n"
   ]
  },
  {
   "cell_type": "markdown",
   "id": "7a893bea",
   "metadata": {},
   "source": [
    "## Задание"
   ]
  },
  {
   "cell_type": "markdown",
   "id": "f177290d",
   "metadata": {},
   "source": [
    "**Задание 1.** Сгенерировать несколько ориентированных и несколько неориентированных графов различными способами (включая считывание из файла). Выполнить с ними все известные операции. Получить для них матрицы смежности и инцидентности. Вывести степени вершин, списки ребер и вершин."
   ]
  },
  {
   "cell_type": "code",
   "execution_count": null,
   "id": "6f976471",
   "metadata": {},
   "outputs": [],
   "source": [
    "from random import random, randint\n",
    "GRAPH_LEN = 10\n",
    "NODE_MIN, NODE_MAX = 0, 10\n",
    "\n",
    "\n",
    "# create new and write\n",
    "## неориентированный граф\n",
    "un_graph = nx.Graph()\n",
    "while len(un_graph) < GRAPH_LEN:\n",
    "    un_graph.add_edge(\n",
    "        randint(NODE_MIN, NODE_MAX),\n",
    "        randint(NODE_MIN, NODE_MAX))\n",
    "nx.write_edgelist(un_graph, \"un_graph.txt\")\n",
    "## ориентированный граф\n",
    "di_graph = nx.DiGraph()\n",
    "while len(di_graph) < GRAPH_LEN:\n",
    "    di_graph.add_edges_from([[\n",
    "        randint(NODE_MIN, NODE_MAX),\n",
    "        randint(NODE_MIN, NODE_MAX)]])\n",
    "nx.write_edgelist(di_graph, \"di_graph.txt\")\n",
    "\n",
    "\n",
    "# read\n",
    "# неориентированный граф\n",
    "un_graph = nx.read_edgelist(\"un_graph.txt\", nodetype = int, create_using = nx.Graph()) #считываем список ребер из файла, по умолчанию неориентированный\n",
    "\n",
    "# ориентированный граф\n",
    "di_graph = nx.read_edgelist(\"di_graph.txt\", nodetype = int, create_using = nx.DiGraph()) #считываем список ребер из файла, по умолчанию неориентированный\n",
    "        \n",
    "\n",
    "# prints\n",
    "## неориентированный граф\n",
    "print(\"неориентированный граф\")\n",
    "### data\n",
    "print(\"nodes: \",  un_graph.nodes())\n",
    "print(\"edges: \",  un_graph.edges())\n",
    "print(\"degree: \", un_graph.degree())\n",
    "### matrixes\n",
    "print(\"матрица смежности:\", nx.adjacency_matrix(un_graph).todense(), sep=\"\\n\")\n",
    "print(\"матрица инцидентности:\", nx.incidence_matrix(un_graph).todense(), sep=\"\\n\")\n",
    "### visual\n",
    "plt.figure(figsize =(7, 10))\n",
    "plt.subplot(211)\n",
    "nx.draw_networkx(un_graph)\n",
    "plt.show()\n",
    "\n",
    "## ориентированный граф\n",
    "print(\"ориентированный граф\")\n",
    "### data\n",
    "print(\"nodes: \",  di_graph.nodes())\n",
    "print(\"edges: \",  di_graph.edges())\n",
    "print(\"degree: \", di_graph.degree())\n",
    "### matrixes\n",
    "print(\"матрица смежности:\", nx.adjacency_matrix(di_graph).todense(), sep=\"\\n\")\n",
    "print(\"матрица инцидентности:\", nx.incidence_matrix(di_graph).todense(), sep=\"\\n\")\n",
    "### visual\n",
    "plt.figure(figsize =(7, 10))\n",
    "plt.subplot(211)\n",
    "nx.draw_networkx(di_graph)\n",
    "plt.show()"
   ]
  },
  {
   "cell_type": "markdown",
   "id": "2087767b",
   "metadata": {},
   "source": [
    "**Задание 2.** Проверить любой из графов из задания 1 на наличие Эйлерова цикла, эйлерова пути, гамильтонова цикла."
   ]
  },
  {
   "cell_type": "code",
   "execution_count": null,
   "id": "492bf8eb",
   "metadata": {},
   "outputs": [],
   "source": [
    "# Эйлерова цикла\n",
    "print(\"неориентированный граф\")\n",
    "print(\"эйлеров цикла:\", nx.is_eulerian(un_graph))\n",
    "print(\"эйлеров путь:\", nx.has_eulerian_path(un_graph))\n",
    "print(\"ориентированный граф\")\n",
    "print(\"эйлеров цикла\", nx.is_eulerian(di_graph))\n",
    "print(\"эйлеров путь:\", nx.has_eulerian_path(di_graph))"
   ]
  },
  {
   "cell_type": "markdown",
   "id": "2e168a74",
   "metadata": {},
   "source": [
    "**Задание 3.** Подсчитать количество циклов в любом из графов из задания 1."
   ]
  },
  {
   "cell_type": "code",
   "execution_count": null,
   "id": "2ffaa940",
   "metadata": {},
   "outputs": [],
   "source": [
    "# Эйлерова цикла\n",
    "print(\"неориентированный граф:\", len(nx.cycle_basis(un_graph)))"
   ]
  }
 ],
 "metadata": {
  "kernelspec": {
   "display_name": "Python 3 (ipykernel)",
   "language": "python",
   "name": "python3"
  },
  "language_info": {
   "codemirror_mode": {
    "name": "ipython",
    "version": 3
   },
   "file_extension": ".py",
   "mimetype": "text/x-python",
   "name": "python",
   "nbconvert_exporter": "python",
   "pygments_lexer": "ipython3",
   "version": "3.10.7"
  }
 },
 "nbformat": 4,
 "nbformat_minor": 5
}
