{
  "cells": [
    {
      "cell_type": "code",
      "execution_count": 208,
      "metadata": {},
      "outputs": [],
      "source": [
        "def jacobi(a, n):\n",
        "    if n <= 0:\n",
        "        raise ValueError(\"'n' must be a positive integer.\")\n",
        "    if n % 2 == 0:\n",
        "        raise ValueError(\"'n' must be odd.\")\n",
        "    a %= n\n",
        "    result = 1\n",
        "    while a != 0:\n",
        "        while a % 2 == 0:\n",
        "            a /= 2\n",
        "            n_mod_8 = n % 8\n",
        "            if n_mod_8 in (3, 5):\n",
        "                result = -result\n",
        "        a, n = n, a\n",
        "        if a % 4 == 3 and n % 4 == 3:\n",
        "            result = -result\n",
        "        a %= n\n",
        "    if n == 1:\n",
        "        return result\n",
        "    else:\n",
        "        return 0\n",
        "\n",
        "\n",
        "def modulo(base, exponent, mod):  \n",
        "    x = 1;  \n",
        "    y = base;  \n",
        "    while (exponent > 0):  \n",
        "        if (exponent % 2 == 1):  \n",
        "            x = (x * y) % mod;  \n",
        "  \n",
        "        y = (y * y) % mod;  \n",
        "        exponent = exponent // 2;  \n",
        "  \n",
        "    return x % mod; "
      ]
    },
    {
      "cell_type": "code",
      "execution_count": 209,
      "metadata": {},
      "outputs": [],
      "source": [
        "import math\n",
        "import numpy\n",
        "import random\n",
        "\n",
        "def Sieve_of_Eratosthenes(__max_number:int):\n",
        "    _primes_found = [2]\n",
        "\n",
        "    for _number_to_check in range(2, __max_number):\n",
        "        if all(_number_to_check % _prime for _prime in _primes_found):\n",
        "            _primes_found.append(_number_to_check)\n",
        "    \n",
        "    return _primes_found\n",
        "\n",
        "\n",
        "def Check_Prime_Solovay_Strassen(__p:int, __t:int=1):\n",
        "    if (__p < 2 or __p % 2 == 0): return False\n",
        "\n",
        "    def _Check():\n",
        "        _a = random.randint(2, __p-1)\n",
        "        if math.gcd(_a, __p) != 1: return False\n",
        "        _j = modulo(_a, (__p - 1) / 2, __p)\n",
        "        _J = (__p + jacobi(_a, __p)) % __p\n",
        "        if abs(_j) != abs(_J): return False\n",
        "        return True\n",
        "    \n",
        "    return all(_Check() for _ in range(__t))\n",
        "\n",
        "\n",
        "def Check_Prime_Lemman(__p:int, __t:int=10):\n",
        "    if (__p < 2 or __p % 2 == 0): return False\n",
        "    \n",
        "    def _Check():\n",
        "        _a = random.randint(2, __p)\n",
        "        _j = modulo(_a, (__p - 1) / 2, __p)\n",
        "        if _j == 1: return 1\n",
        "        if _j == __p-1: return 2\n",
        "        return 0\n",
        "\n",
        "    _results = [_Check() for _ in range(__t)]\n",
        "    if not all(_r != 0 for _r in _results): return False\n",
        "    if not all(_r == 1 for _r in _results): return f\"True ({0.5**__t})\"\n",
        "    return True\n",
        "\n",
        "    \n",
        "\n",
        "def Check_Prime_Miller(__p:int, __t:int=10):\n",
        "    if (__p < 2 or __p % 2 == 0): return False\n",
        "    \n",
        "    def _Check():\n",
        "\n",
        "        # _b = math.floor(math.log(__p - 1, 2))\n",
        "        _temp = __p - 1\n",
        "        _b = 0\n",
        "        while _temp % 2 == 0:\n",
        "            _temp //= 2\n",
        "            _b += 1\n",
        "        _m = 0\n",
        "        while 1 + (2 ** _b) * _m != __p: _m += 1\n",
        "\n",
        "        _a = random.randint(2, __p)\n",
        "        _j = 0\n",
        "        _z = modulo(_a, _m, __p)\n",
        "        if (_z == 1 or _z == __p - 1): return True\n",
        "\n",
        "        while (True):\n",
        "            if _j > 0 and _z == 1: return False\n",
        "            _j += 1\n",
        "            if _j < _b and _z != __p - 1:\n",
        "                _z = modulo(_z, 2, __p)\n",
        "                continue\n",
        "            return _z == __p - 1\n",
        "        \n",
        "\n",
        "\n",
        "    _results = [_Check() for _ in range(__t)]\n",
        "    if not all(_r != 0 for _r in _results): return False\n",
        "    if not all(_r == 1 for _r in _results): return f\"True ({0.5**__t})\"\n",
        "    return True"
      ]
    },
    {
      "cell_type": "code",
      "execution_count": 212,
      "metadata": {},
      "outputs": [
        {
          "name": "stdout",
          "output_type": "stream",
          "text": [
            "[2, 3, 5, 7, 11, 13, 17, 19, 23, 29, 31, 37, 41, 43, 47, 53, 59, 61, 67, 71, 73, 79, 83, 89, 97, 101, 103, 107, 109, 113, 127, 131, 137, 139, 149, 151, 157, 163, 167, 173, 179, 181, 191, 193, 197, 199, 211, 223, 227, 229, 233, 239, 241, 251, 257, 263, 269, 271, 277, 281, 283, 293, 307, 311, 313, 317, 331, 337, 347, 349, 353, 359, 367, 373, 379, 383, 389, 397, 401, 409, 419, 421, 431, 433, 439, 443, 449, 457, 461, 463, 467, 479, 487, 491, 499, 503, 509, 521, 523, 541, 547, 557, 563, 569, 571, 577, 587, 593, 599, 601, 607, 613, 617, 619, 631, 641, 643, 647, 653, 659, 661, 673, 677, 683, 691, 701, 709, 719, 727, 733, 739, 743, 751, 757, 761, 769, 773, 787, 797, 809, 811, 821, 823, 827, 829, 839, 853, 857, 859, 863, 877, 881, 883, 887, 907, 911, 919, 929, 937, 941, 947, 953, 967, 971, 977, 983, 991, 997]\n",
            "'number=997 -- True'\n",
            "'number=997 -- True (0.0009765625)'\n",
            "'number=997 -- True'\n"
          ]
        }
      ],
      "source": [
        "from pprint import pprint\n",
        "from random import randint\n",
        "\n",
        "print(Sieve_of_Eratosthenes(1000))\n",
        "\n",
        "\n",
        "number = 997#randint(100,10000)\n",
        "pprint(f\"number={number} -- {Check_Prime_Solovay_Strassen(number)}\")\n",
        "\n",
        "number = 997#randint(100,1000)\n",
        "pprint(f\"number={number} -- {Check_Prime_Lemman(number)}\")\n",
        "\n",
        "number = 997#randint(100,1000)\n",
        "pprint(f\"number={number} -- {Check_Prime_Miller(number)}\")"
      ]
    }
  ],
  "metadata": {
    "colab": {
      "collapsed_sections": [],
      "name": "Тема 10. Визуализация данных.Табличные данные.ipynb",
      "provenance": []
    },
    "hide_input": false,
    "kernelspec": {
      "display_name": "Python 3",
      "language": "python",
      "name": "python3"
    },
    "language_info": {
      "codemirror_mode": {
        "name": "ipython",
        "version": 3
      },
      "file_extension": ".py",
      "mimetype": "text/x-python",
      "name": "python",
      "nbconvert_exporter": "python",
      "pygments_lexer": "ipython3",
      "version": "3.10.7"
    },
    "latex_envs": {
      "LaTeX_envs_menu_present": true,
      "autoclose": false,
      "autocomplete": true,
      "bibliofile": "biblio.bib",
      "cite_by": "apalike",
      "current_citInitial": 1,
      "eqLabelWithNumbers": true,
      "eqNumInitial": 1,
      "hotkeys": {
        "equation": "Ctrl-E",
        "itemize": "Ctrl-I"
      },
      "labels_anchors": false,
      "latex_user_defs": false,
      "report_style_numbering": false,
      "user_envs_cfg": false
    },
    "nbTranslate": {
      "displayLangs": [
        "*"
      ],
      "hotkey": "alt-t",
      "langInMainMenu": true,
      "sourceLang": "en",
      "targetLang": "fr",
      "useGoogleTranslate": true
    },
    "toc": {
      "base_numbering": 1,
      "nav_menu": {},
      "number_sections": false,
      "sideBar": true,
      "skip_h1_title": true,
      "title_cell": "Table of Contents",
      "title_sidebar": "Contents",
      "toc_cell": false,
      "toc_position": {},
      "toc_section_display": true,
      "toc_window_display": false
    },
    "varInspector": {
      "cols": {
        "lenName": 16,
        "lenType": 16,
        "lenVar": 40
      },
      "kernels_config": {
        "python": {
          "delete_cmd_postfix": "",
          "delete_cmd_prefix": "del ",
          "library": "var_list.py",
          "varRefreshCmd": "print(var_dic_list())"
        },
        "r": {
          "delete_cmd_postfix": ") ",
          "delete_cmd_prefix": "rm(",
          "library": "var_list.r",
          "varRefreshCmd": "cat(var_dic_list()) "
        }
      },
      "types_to_exclude": [
        "module",
        "function",
        "builtin_function_or_method",
        "instance",
        "_Feature"
      ],
      "window_display": false
    }
  },
  "nbformat": 4,
  "nbformat_minor": 0
}
