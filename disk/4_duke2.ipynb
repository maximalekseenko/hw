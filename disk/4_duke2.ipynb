{
 "cells": [
  {
   "cell_type": "markdown",
   "id": "6059efcd",
   "metadata": {},
   "source": [
    "# Графы"
   ]
  },
  {
   "cell_type": "markdown",
   "id": "2bb2048b",
   "metadata": {},
   "source": [
    "## Связность и разреженность графов. "
   ]
  },
  {
   "cell_type": "markdown",
   "id": "dbe8a4df",
   "metadata": {},
   "source": [
    "\n",
    "![title](images/Снимок_экрана1.jpg)\n"
   ]
  },
  {
   "cell_type": "markdown",
   "id": "9b3416ff",
   "metadata": {},
   "source": [
    "## Гигантсткие компоненты"
   ]
  },
  {
   "cell_type": "markdown",
   "id": "328b16c7",
   "metadata": {},
   "source": [
    "\n",
    "![title](images/Снимок_экрана2.jpg)\n"
   ]
  },
  {
   "cell_type": "markdown",
   "id": "fd5b6604",
   "metadata": {},
   "source": [
    "## Диаметр сложных сетей"
   ]
  },
  {
   "cell_type": "markdown",
   "id": "dff99fcf",
   "metadata": {},
   "source": [
    "\n",
    "![title](images/Снимок_экрана3.jpg)\n"
   ]
  },
  {
   "cell_type": "markdown",
   "id": "34c62bab",
   "metadata": {},
   "source": [
    "## Устойчивость гигантской компоненты"
   ]
  },
  {
   "cell_type": "markdown",
   "id": "b5bb7b77",
   "metadata": {},
   "source": [
    "\n",
    "![title](images/Снимок_экрана4.jpg)\n",
    "\n",
    "![title](images/Снимок_экрана4_1.jpg)\n",
    "\n"
   ]
  },
  {
   "cell_type": "markdown",
   "id": "700c5810",
   "metadata": {},
   "source": [
    "## Устойчивость к атакам на хабы"
   ]
  },
  {
   "cell_type": "markdown",
   "id": "31179960",
   "metadata": {},
   "source": [
    "\n",
    "![title](images/Снимок_экрана5.jpg)\n",
    "\n",
    "![title](images/Снимок_экрана5_2.jpg)\n",
    "\n",
    "![title](images/Снимок_экрана5_3.jpg)\n"
   ]
  },
  {
   "cell_type": "markdown",
   "id": "211e44bf",
   "metadata": {},
   "source": [
    "## Степенной закон распределения вершин"
   ]
  },
  {
   "cell_type": "markdown",
   "id": "824edd9a",
   "metadata": {},
   "source": [
    "\n",
    "![title](images/Снимок_экрана6.jpg)\n"
   ]
  },
  {
   "cell_type": "markdown",
   "id": "42640b23",
   "metadata": {},
   "source": [
    "## Задачи"
   ]
  },
  {
   "cell_type": "markdown",
   "id": "21d8b493",
   "metadata": {},
   "source": [
    "### Задача 1. Рассмотрим модель случайных графов на n вершинах, в котором каждое из возможных ребер проводится независимо от всех остальных с с одной и той же вероятностью. Используя библиотеку NetworkX, сгегенрируйте граф на 1000 вершинах при р=0,003. Оцените разницу между количеством ребер и их ожидаемым количеством. Постройте график распределения вершин в log-log координатах. Оцените степенную зависимость закона распределения вершин. "
   ]
  },
  {
   "cell_type": "code",
   "execution_count": null,
   "id": "cc065936",
   "metadata": {},
   "outputs": [],
   "source": [
    "import networkx as nx\n",
    "import matplotlib\n",
    "matplotlib.rcParams['xtick.labelsize'] = 18\n",
    "matplotlib.rcParams['ytick.labelsize'] = 18\n",
    "import matplotlib.pyplot as plt\n",
    "import pylab\n",
    "%matplotlib inline\n",
    "pylab.rcParams['figure.figsize'] = 10, 10"
   ]
  },
  {
   "cell_type": "code",
   "execution_count": null,
   "id": "9dfe4c39",
   "metadata": {},
   "outputs": [],
   "source": [
    "G = nx.gnp_random_graph(1000, 0.003)"
   ]
  },
  {
   "cell_type": "code",
   "execution_count": null,
   "id": "2d19ab3c",
   "metadata": {},
   "outputs": [],
   "source": [
    "## ваш код здесь для подсчета количества сгенерированных ребер и ожидаемого их количества\n",
    "N = 1000\n",
    "P = 0.003\n",
    "print(\"количества сгенерированных ребер:\", G.number_of_edges())\n",
    "print(\"ожидаемого их количества:\", N*(N-1)*P)"
   ]
  },
  {
   "cell_type": "code",
   "execution_count": null,
   "id": "7b3aaf8c",
   "metadata": {},
   "outputs": [],
   "source": [
    "# подсчет количества вершин каждой степени\n",
    "degrees = dict()\n",
    "for degree in dict(G.degree()).values():\n",
    "    if degree in degrees:\n",
    "        degrees[degree] += 1\n",
    "    else:\n",
    "        degrees[degree] = 1\n",
    "# Ваш код для формирования такого же словаря, с помощью библиотечных функций\n",
    "\n",
    "\n",
    "sorted_degree_values = sorted(degrees.keys())\n",
    "counts = [degrees[d] for d in sorted_degree_values]\n",
    "plt.loglog(sorted_degree_values, counts, ls='None', marker='o', color='r', markersize=8)\n",
    "plt.xlabel(\"degree (log)\", fontsize=18)\n",
    "plt.ylabel(\"number of vertices (log)\", fontsize=18)\n",
    "plt.title(\"Degree distribution\", fontsize=18)\n",
    "plt.show()"
   ]
  },
  {
   "cell_type": "markdown",
   "id": "f2b1060f",
   "metadata": {},
   "source": [
    "### Задача 2. Найдите число компонено связности в графе из предыдущей задачи. Есть ли в нем гигантская уомпонента? Сколько в ней вершин, каков ее диаметр? Удажите из графа 10- ую часть вершин. Остентся ли в графе гигантская компонента? Сделайте исследование при какой доле вершин гигантская компонента разрушается."
   ]
  },
  {
   "cell_type": "code",
   "execution_count": null,
   "id": "24ccb3b0",
   "metadata": {},
   "outputs": [],
   "source": [
    "components = nx.number_connected_components(G)\n",
    "print (components)\n",
    "giant_component_list = sorted(nx.connected_components(G), key=len, reverse=True) # reverse для сортировки по убыванию\n",
    "giant_component = G.subgraph(giant_component_list[0])\n",
    "print (G.subgraph(giant_component))\n",
    "# print(len(max(nx.connected_components(G), key=len))) # количество вершин в гигантской компоненте\n",
    "print (nx.diameter(giant_component))\n"
   ]
  },
  {
   "cell_type": "code",
   "execution_count": null,
   "id": "172d4d3f",
   "metadata": {},
   "outputs": [],
   "source": [
    "# Ваш код здесь для удаления 10 процентов случайных вершин\n",
    "import random\n",
    "print(G.number_of_nodes())\n",
    "G.remove_nodes_from(random.sample(G.nodes(), int(G.number_of_nodes() * 0.1)))"
   ]
  },
  {
   "cell_type": "code",
   "execution_count": null,
   "id": "7af62d1b",
   "metadata": {},
   "outputs": [],
   "source": [
    "# вывести количество оставшихся вершин, количество компонент связности, гигантскую компоненту связности\n",
    "\n",
    "print(\"количество оставшихся вершин:\", G.number_of_nodes())\n",
    "print(\"количество компонент связности:\", nx.number_connected_components(G))\n",
    "print(\"гигантскую компоненту связности:\", len(max(nx.connected_components(G), key=len)))"
   ]
  },
  {
   "cell_type": "markdown",
   "id": "87d38664",
   "metadata": {},
   "source": [
    "### Задача 3. Найдите число компонено связности в графе из предыдущей задачи. Есть ли в нем гигантская уомпонента? Сколько в ней вершин, каков ее диаметр? Удажите из графа 50 самых больших по степени вершин. Остентся ли в графе гигантская компонента? Сделайте исследование при какой доле вершин гигантская компонента разрушается."
   ]
  },
  {
   "cell_type": "code",
   "execution_count": null,
   "id": "2380c355",
   "metadata": {},
   "outputs": [],
   "source": [
    "# Ваш код здесь для удаления 50 вершин-хабов\n",
    "G.remove_nodes_from(\n",
    "    sorted(\n",
    "        G.nodes(), \n",
    "        key=lambda x: G.number_of_edges(x)\n",
    "    )[:50]\n",
    ")"
   ]
  },
  {
   "cell_type": "code",
   "execution_count": null,
   "id": "b8228d0a",
   "metadata": {},
   "outputs": [],
   "source": [
    "# вывести количество оставшихся вершин, количество компонент связности, гигантскую компоненту связности\n",
    "# вывести количество оставшихся вершин, количество компонент связности, гигантскую компоненту связности\n",
    "\n",
    "print(\"количество оставшихся вершин:\", G.number_of_nodes())\n",
    "print(\"количество компонент связности:\", nx.number_connected_components(G))\n",
    "print(\"гигантскую компоненту связности:\", len(max(nx.connected_components(G), key=len)))"
   ]
  }
 ],
 "metadata": {
  "kernelspec": {
   "display_name": "Python 3 (ipykernel)",
   "language": "python",
   "name": "python3"
  },
  "language_info": {
   "codemirror_mode": {
    "name": "ipython",
    "version": 3
   },
   "file_extension": ".py",
   "mimetype": "text/x-python",
   "name": "python",
   "nbconvert_exporter": "python",
   "pygments_lexer": "ipython3",
   "version": "3.10.7"
  }
 },
 "nbformat": 4,
 "nbformat_minor": 5
}
