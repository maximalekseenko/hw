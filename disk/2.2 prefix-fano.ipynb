{
  "cells": [
    {
      "cell_type": "markdown",
      "metadata": {},
      "source": [
        "# 1: Написать программу, в которой выполнить последовательно следующие этапы: "
      ]
    },
    {
      "cell_type": "code",
      "execution_count": 1,
      "metadata": {},
      "outputs": [
        {
          "data": {
            "text/plain": [
              "'The quick brown fox jumps over the lazy dog! The quick brown fox jumps over the lazy dog. The quick brown fox jumps over the lazy dog,'"
            ]
          },
          "execution_count": 1,
          "metadata": {},
          "output_type": "execute_result"
        }
      ],
      "source": [
        "# 1.1. Прочитать текст из файла \n",
        "data = \"\"\n",
        "with open(\"file.txt\") as file:\n",
        "    data = file.read()\n",
        "\n",
        "\n",
        "data"
      ]
    },
    {
      "cell_type": "code",
      "execution_count": 2,
      "metadata": {},
      "outputs": [
        {
          "data": {
            "text/plain": [
              "'thequickbrownfoxjumpsoverthelazydogthequickbrownfoxjumpsoverthelazydogthequickbrownfoxjumpsoverthelazydog'"
            ]
          },
          "execution_count": 2,
          "metadata": {},
          "output_type": "execute_result"
        }
      ],
      "source": [
        "# 1.2. Привести все слова к нижнему регистру, удалить знаки препинания и пробелы (результат сохранить в отдельный файл).\n",
        "data = data.lower()\n",
        "data = data.translate(\n",
        "{\n",
        "    ord(' '): '',\n",
        "    ord('.'): '',\n",
        "    ord(','): '',\n",
        "    ord('!'): '',\n",
        "})\n",
        "\n",
        "with open(\"_task1-outfile.txt\", mode=\"w\") as file:\n",
        "    file.write(data)\n",
        "\n",
        "\n",
        "data"
      ]
    },
    {
      "cell_type": "code",
      "execution_count": 3,
      "metadata": {},
      "outputs": [
        {
          "name": "stdout",
          "output_type": "stream",
          "text": [
            "{'t': 6, 'h': 6, 'e': 9, 'q': 3, 'u': 6, 'i': 3, 'c': 3, 'k': 3, 'b': 3, 'r': 6, 'o': 12, 'w': 3, 'n': 3, 'f': 3, 'x': 3, 'j': 3, 'm': 3, 'p': 3, 's': 3, 'v': 3, 'l': 3, 'a': 3, 'z': 3, 'y': 3, 'd': 3, 'g': 3} {'th': 6, 'he': 6, 'eq': 3, 'qu': 3, 'ui': 3, 'ic': 3, 'ck': 3, 'kb': 3, 'br': 3, 'ro': 3, 'ow': 3, 'wn': 3, 'nf': 3, 'fo': 3, 'ox': 3, 'xj': 3, 'ju': 3, 'um': 3, 'mp': 3, 'ps': 3, 'so': 3, 'ov': 3, 've': 3, 'er': 3, 'rt': 3, 'el': 3, 'la': 3, 'az': 3, 'zy': 3, 'yd': 3, 'do': 3, 'og': 3, 'gt': 2}\n"
          ]
        }
      ],
      "source": [
        "# 1.3. Подсчитать частоту появления однобуквенных и двухбуквенных сочетаний. \n",
        "patterns_singular = dict()\n",
        "patterns_double = dict()\n",
        "\n",
        "for _index in range(len(data)):\n",
        "\n",
        "    # check singular at index\n",
        "    if data[_index] not in patterns_singular:\n",
        "        patterns_singular[data[_index]] = 0\n",
        "    patterns_singular[data[_index]] += 1\n",
        "\n",
        "    # check double at index:index+1\n",
        "    if _index == len(data)-1: continue # out of bounds\n",
        "    if data[_index:_index+2] not in patterns_double:\n",
        "        patterns_double[data[_index:_index+2]] = 0\n",
        "    patterns_double[data[_index:_index+2]] += 1\n",
        "\n",
        "\n",
        "print(patterns_singular, patterns_double)"
      ]
    },
    {
      "cell_type": "code",
      "execution_count": 14,
      "metadata": {},
      "outputs": [
        {
          "name": "stdout",
          "output_type": "stream",
          "text": [
            "3.1443140113476007 3.449993928041867\n"
          ]
        }
      ],
      "source": [
        "# 1.4. Определить энтропию, приходящуюся в среднем на одну букву и на одно двухбуквенное сочетание. \n",
        "\n",
        "chance_singular = { _key: _val / len(data)\n",
        "    for _key, _val in patterns_singular.items()\n",
        "}\n",
        "chance_double = { _key: _val / len(data)\n",
        "    for _key, _val in patterns_double.items()\n",
        "}\n",
        "\n",
        "\n",
        "import math\n",
        "\n",
        "entropy_singular = -sum([\n",
        "    _val * math.log(_val) \n",
        "    for _val in chance_singular.values()\n",
        "])\n",
        "\n",
        "entropy_double = -sum([\n",
        "    _val * math.log(_val) \n",
        "    for _val in chance_double.values()\n",
        "])\n",
        "         \n",
        "\n",
        "print(entropy_singular, entropy_double)"
      ]
    },
    {
      "cell_type": "code",
      "execution_count": 16,
      "metadata": {},
      "outputs": [
        {
          "name": "stdout",
          "output_type": "stream",
          "text": [
            "330.15297119149807 0.8790648457174\n"
          ]
        }
      ],
      "source": [
        "# 1.5. Найти длину кода при равномерном побуквенном кодировании и избыточность. \n",
        "\n",
        "code_len = len(data) * entropy_singular\n",
        "\n",
        "\n",
        "code_ext = 1 - (entropy_singular / len(patterns_singular))\n",
        "\n",
        "\n",
        "print(code_len, code_ext)"
      ]
    },
    {
      "cell_type": "code",
      "execution_count": 6,
      "metadata": {},
      "outputs": [
        {
          "data": {
            "text/plain": [
              "'qickbrwnfxjmpsvrlazydgqickbrwnfxjmpsvrlazydgqickbrwnfxjmpsvrlazydg'"
            ]
          },
          "execution_count": 6,
          "metadata": {},
          "output_type": "execute_result"
        }
      ],
      "source": [
        "# 1.6. Удалить 20% наиболее часто встречающихся символов, проанализировать как изменится энтропия однобуквенных сочетаний и предположить, почему так происходит. \n",
        "\n",
        "data_cut_common = data\n",
        "for item in sorted(patterns_singular.items(), key=lambda item: -item[1])[:round(len(patterns_singular) * 0.2)]:\n",
        "    data_cut_common = data_cut_common.replace(item[0], '')\n",
        "\n",
        "\n",
        "data_cut_common"
      ]
    },
    {
      "cell_type": "code",
      "execution_count": 7,
      "metadata": {},
      "outputs": [
        {
          "data": {
            "text/plain": [
              "'theurownfoxjumpsoverthelazydogtheurownfoxjumpsoverthelazydogtheurownfoxjumpsoverthelazydog'"
            ]
          },
          "execution_count": 7,
          "metadata": {},
          "output_type": "execute_result"
        }
      ],
      "source": [
        "# 1.7. Удалить 20% наиболее редко встречающихся символов, проанализировать как изменится энтропия однобуквенных сочетаний и предположить, почему так происходит.\n",
        "\n",
        "data_cut_common = data\n",
        "for item in sorted(patterns_singular.items(), key=lambda item: item[1])[:round(len(patterns_singular) * 0.2)]:\n",
        "    data_cut_common = data_cut_common.replace(item[0], '')\n",
        "\n",
        "\n",
        "data_cut_common"
      ]
    },
    {
      "cell_type": "markdown",
      "metadata": {},
      "source": [
        "# 2: Написать программу, чтобы провести статистическую обработку текста"
      ]
    },
    {
      "cell_type": "code",
      "execution_count": 8,
      "metadata": {},
      "outputs": [],
      "source": [
        "# 2.1. Определить энтропию, приходящуюся в среднем на одну букву, длину кода при равномерном кодировании и избыточность.\n",
        "\n"
      ]
    },
    {
      "cell_type": "code",
      "execution_count": 9,
      "metadata": {},
      "outputs": [],
      "source": [
        "# 2.2. Построить схему алфавитного кодирования для однобуквенных сочетаний методом Шеннона-Фано. \n",
        "\n"
      ]
    },
    {
      "cell_type": "code",
      "execution_count": 10,
      "metadata": {},
      "outputs": [],
      "source": [
        "# 2.3. Найти среднюю длину элементарного кода, эффективность сжатия. Закодировать текст. Декодировать текст. \n",
        "\n"
      ]
    },
    {
      "cell_type": "code",
      "execution_count": 11,
      "metadata": {},
      "outputs": [],
      "source": [
        "# 2.4. Построить схему алфавитного кодирования для двухбуквенных сочетаний методом Шеннона-Фано. Найти среднюю длину элементарного кода, эффективность сжатия, сравнить с результатами для однобуквенных сочетаний. Закодировать текст. Декодировать текст.\n"
      ]
    }
  ],
  "metadata": {
    "colab": {
      "collapsed_sections": [],
      "name": "Тема 10. Визуализация данных.Табличные данные.ipynb",
      "provenance": []
    },
    "hide_input": false,
    "kernelspec": {
      "display_name": "Python 3",
      "language": "python",
      "name": "python3"
    },
    "language_info": {
      "codemirror_mode": {
        "name": "ipython",
        "version": 3
      },
      "file_extension": ".py",
      "mimetype": "text/x-python",
      "name": "python",
      "nbconvert_exporter": "python",
      "pygments_lexer": "ipython3",
      "version": "3.10.7"
    },
    "latex_envs": {
      "LaTeX_envs_menu_present": true,
      "autoclose": false,
      "autocomplete": true,
      "bibliofile": "biblio.bib",
      "cite_by": "apalike",
      "current_citInitial": 1,
      "eqLabelWithNumbers": true,
      "eqNumInitial": 1,
      "hotkeys": {
        "equation": "Ctrl-E",
        "itemize": "Ctrl-I"
      },
      "labels_anchors": false,
      "latex_user_defs": false,
      "report_style_numbering": false,
      "user_envs_cfg": false
    },
    "nbTranslate": {
      "displayLangs": [
        "*"
      ],
      "hotkey": "alt-t",
      "langInMainMenu": true,
      "sourceLang": "en",
      "targetLang": "fr",
      "useGoogleTranslate": true
    },
    "toc": {
      "base_numbering": 1,
      "nav_menu": {},
      "number_sections": false,
      "sideBar": true,
      "skip_h1_title": true,
      "title_cell": "Table of Contents",
      "title_sidebar": "Contents",
      "toc_cell": false,
      "toc_position": {},
      "toc_section_display": true,
      "toc_window_display": false
    },
    "varInspector": {
      "cols": {
        "lenName": 16,
        "lenType": 16,
        "lenVar": 40
      },
      "kernels_config": {
        "python": {
          "delete_cmd_postfix": "",
          "delete_cmd_prefix": "del ",
          "library": "var_list.py",
          "varRefreshCmd": "print(var_dic_list())"
        },
        "r": {
          "delete_cmd_postfix": ") ",
          "delete_cmd_prefix": "rm(",
          "library": "var_list.r",
          "varRefreshCmd": "cat(var_dic_list()) "
        }
      },
      "types_to_exclude": [
        "module",
        "function",
        "builtin_function_or_method",
        "instance",
        "_Feature"
      ],
      "window_display": false
    }
  },
  "nbformat": 4,
  "nbformat_minor": 0
}
