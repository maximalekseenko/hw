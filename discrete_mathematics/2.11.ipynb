{
  "cells": [
    {
      "cell_type": "markdown",
      "metadata": {},
      "source": [
        "# RSA"
      ]
    },
    {
      "cell_type": "markdown",
      "metadata": {},
      "source": [
        "## RSA Encode"
      ]
    },
    {
      "cell_type": "code",
      "execution_count": 63,
      "metadata": {},
      "outputs": [],
      "source": [
        "import math\n",
        "\n",
        "\n",
        "def RSA(__length):\n",
        "\n",
        "    _p = GenPr(__length)\n",
        "    _q = GenPr(__length)\n",
        "\n",
        "    # N\n",
        "    _n = _p * _q\n",
        "\n",
        "    # phi\n",
        "    _phi = (_p-1)*(_q-1)\n",
        "\n",
        "    # e\n",
        "    _e = 2\n",
        "    while math.gcd(_phi, _e) != 1: _e += 1\n",
        "\n",
        "    # d\n",
        "    _d = 2\n",
        "    while (_e * _d) % _phi != 1:\n",
        "        _d += 1\n",
        "\n",
        "    return _e, _d, _n"
      ]
    },
    {
      "cell_type": "markdown",
      "metadata": {},
      "source": [
        "## RSA encode / decode"
      ]
    },
    {
      "cell_type": "code",
      "execution_count": 77,
      "metadata": {},
      "outputs": [],
      "source": [
        "import math\n",
        "\n",
        "def RSA_encode(__msg:int, __key, __second_key):\n",
        "\n",
        "    _encoded = []\n",
        "    for _byte in __msg:\n",
        "        _encoded.append(math.fmod(pow(_byte, __key), __second_key))\n",
        "\n",
        "    return _encoded"
      ]
    },
    {
      "cell_type": "code",
      "execution_count": 54,
      "metadata": {},
      "outputs": [],
      "source": [
        "import math\n",
        "\n",
        "def RSA_decode(__msg, __key, __hash):\n",
        "    # _decoded = pow(__msg, __key)\n",
        "    # _decoded = math.fmod(_decoded, __hash)\n",
        "\n",
        "    return RSA_encode(__msg, __key, __hash)"
      ]
    },
    {
      "cell_type": "markdown",
      "metadata": {},
      "source": [
        "## Keys Generator"
      ]
    },
    {
      "cell_type": "markdown",
      "metadata": {},
      "source": [
        "# Prime"
      ]
    },
    {
      "cell_type": "markdown",
      "metadata": {},
      "source": [
        "## prime generator"
      ]
    },
    {
      "cell_type": "code",
      "execution_count": 72,
      "metadata": {},
      "outputs": [
        {
          "name": "stdout",
          "output_type": "stream",
          "text": [
            "3\n"
          ]
        }
      ],
      "source": [
        "import Crypto.Util.number\n",
        "import os\n",
        "\n",
        "\n",
        "def GenPr(_length): \n",
        "    return Crypto.Util.number.getPrime(_length, os.urandom)"
      ]
    },
    {
      "cell_type": "markdown",
      "metadata": {},
      "source": [
        "# Task"
      ]
    },
    {
      "cell_type": "code",
      "execution_count": 68,
      "metadata": {},
      "outputs": [],
      "source": [
        "TEXT = \"ПОЗНАЙ СЕБЯ\""
      ]
    },
    {
      "cell_type": "code",
      "execution_count": 81,
      "metadata": {},
      "outputs": [
        {
          "name": "stdout",
          "output_type": "stream",
          "text": [
            "keys: 3 411 667\n",
            "text: [1055, 1054, 1047, 1053, 1040, 1049, 32, 1057, 1045, 1041, 1071]\n",
            "enco: [548.0, 304.0, 578.0, 381.0, 516.0, 444.0, 85.0, 22.0, 494.0, 147.0, 311.0]\n"
          ]
        },
        {
          "ename": "OverflowError",
          "evalue": "(34, 'Result too large')",
          "output_type": "error",
          "traceback": [
            "\u001b[0;31m---------------------------------------------------------------------------\u001b[0m",
            "\u001b[0;31mOverflowError\u001b[0m                             Traceback (most recent call last)",
            "\u001b[1;32m/Users/maximalekseenko/Desktop/hw/discrete_mathematics/2.11.ipynb Cell 13\u001b[0m line \u001b[0;36m1\n\u001b[1;32m      <a href='vscode-notebook-cell:/Users/maximalekseenko/Desktop/hw/discrete_mathematics/2.11.ipynb#W1sZmlsZQ%3D%3D?line=6'>7</a>\u001b[0m encoded_text \u001b[39m=\u001b[39m RSA_encode(text, public_key, \u001b[39mhash\u001b[39m)\n\u001b[1;32m      <a href='vscode-notebook-cell:/Users/maximalekseenko/Desktop/hw/discrete_mathematics/2.11.ipynb#W1sZmlsZQ%3D%3D?line=7'>8</a>\u001b[0m \u001b[39mprint\u001b[39m(\u001b[39m\"\u001b[39m\u001b[39menco:\u001b[39m\u001b[39m\"\u001b[39m, encoded_text)\n\u001b[0;32m---> <a href='vscode-notebook-cell:/Users/maximalekseenko/Desktop/hw/discrete_mathematics/2.11.ipynb#W1sZmlsZQ%3D%3D?line=9'>10</a>\u001b[0m decoded_text \u001b[39m=\u001b[39m RSA_decode(encoded_text, private_key, \u001b[39mhash\u001b[39;49m)\n\u001b[1;32m     <a href='vscode-notebook-cell:/Users/maximalekseenko/Desktop/hw/discrete_mathematics/2.11.ipynb#W1sZmlsZQ%3D%3D?line=10'>11</a>\u001b[0m \u001b[39mprint\u001b[39m(\u001b[39m\"\u001b[39m\u001b[39mdeco:\u001b[39m\u001b[39m\"\u001b[39m, decoded_text)\n",
            "\u001b[1;32m/Users/maximalekseenko/Desktop/hw/discrete_mathematics/2.11.ipynb Cell 13\u001b[0m line \u001b[0;36m7\n\u001b[1;32m      <a href='vscode-notebook-cell:/Users/maximalekseenko/Desktop/hw/discrete_mathematics/2.11.ipynb#W1sZmlsZQ%3D%3D?line=2'>3</a>\u001b[0m \u001b[39mdef\u001b[39;00m \u001b[39mRSA_decode\u001b[39m(__msg, __key, __hash):\n\u001b[1;32m      <a href='vscode-notebook-cell:/Users/maximalekseenko/Desktop/hw/discrete_mathematics/2.11.ipynb#W1sZmlsZQ%3D%3D?line=3'>4</a>\u001b[0m     \u001b[39m# _decoded = pow(__msg, __key)\u001b[39;00m\n\u001b[1;32m      <a href='vscode-notebook-cell:/Users/maximalekseenko/Desktop/hw/discrete_mathematics/2.11.ipynb#W1sZmlsZQ%3D%3D?line=4'>5</a>\u001b[0m     \u001b[39m# _decoded = math.fmod(_decoded, __hash)\u001b[39;00m\n\u001b[0;32m----> <a href='vscode-notebook-cell:/Users/maximalekseenko/Desktop/hw/discrete_mathematics/2.11.ipynb#W1sZmlsZQ%3D%3D?line=6'>7</a>\u001b[0m     \u001b[39mreturn\u001b[39;00m RSA_encode(__msg, __key, __hash)\n",
            "\u001b[1;32m/Users/maximalekseenko/Desktop/hw/discrete_mathematics/2.11.ipynb Cell 13\u001b[0m line \u001b[0;36m7\n\u001b[1;32m      <a href='vscode-notebook-cell:/Users/maximalekseenko/Desktop/hw/discrete_mathematics/2.11.ipynb#W1sZmlsZQ%3D%3D?line=4'>5</a>\u001b[0m _encoded \u001b[39m=\u001b[39m []\n\u001b[1;32m      <a href='vscode-notebook-cell:/Users/maximalekseenko/Desktop/hw/discrete_mathematics/2.11.ipynb#W1sZmlsZQ%3D%3D?line=5'>6</a>\u001b[0m \u001b[39mfor\u001b[39;00m _byte \u001b[39min\u001b[39;00m __msg:\n\u001b[0;32m----> <a href='vscode-notebook-cell:/Users/maximalekseenko/Desktop/hw/discrete_mathematics/2.11.ipynb#W1sZmlsZQ%3D%3D?line=6'>7</a>\u001b[0m     _encoded\u001b[39m.\u001b[39mappend(math\u001b[39m.\u001b[39mfmod(\u001b[39mpow\u001b[39;49m(_byte, __key), __second_key))\n\u001b[1;32m      <a href='vscode-notebook-cell:/Users/maximalekseenko/Desktop/hw/discrete_mathematics/2.11.ipynb#W1sZmlsZQ%3D%3D?line=8'>9</a>\u001b[0m \u001b[39mreturn\u001b[39;00m _encoded\n",
            "\u001b[0;31mOverflowError\u001b[0m: (34, 'Result too large')"
          ]
        }
      ],
      "source": [
        "\n",
        "public_key, private_key, hash = RSA(5)\n",
        "print(\"keys:\", public_key, private_key, hash)\n",
        "\n",
        "text = list(map(ord, TEXT))\n",
        "print(\"text:\", text)\n",
        "\n",
        "encoded_text = RSA_encode(text, public_key, hash)\n",
        "print(\"enco:\", encoded_text)\n",
        "\n",
        "decoded_text = RSA_decode(encoded_text, private_key, hash)\n",
        "print(\"deco:\", decoded_text)"
      ]
    }
  ],
  "metadata": {
    "colab": {
      "collapsed_sections": [],
      "name": "Тема 10. Визуализация данных.Табличные данные.ipynb",
      "provenance": []
    },
    "hide_input": false,
    "kernelspec": {
      "display_name": "Python 3",
      "language": "python",
      "name": "python3"
    },
    "language_info": {
      "codemirror_mode": {
        "name": "ipython",
        "version": 3
      },
      "file_extension": ".py",
      "mimetype": "text/x-python",
      "name": "python",
      "nbconvert_exporter": "python",
      "pygments_lexer": "ipython3",
      "version": "3.10.7"
    },
    "latex_envs": {
      "LaTeX_envs_menu_present": true,
      "autoclose": false,
      "autocomplete": true,
      "bibliofile": "biblio.bib",
      "cite_by": "apalike",
      "current_citInitial": 1,
      "eqLabelWithNumbers": true,
      "eqNumInitial": 1,
      "hotkeys": {
        "equation": "Ctrl-E",
        "itemize": "Ctrl-I"
      },
      "labels_anchors": false,
      "latex_user_defs": false,
      "report_style_numbering": false,
      "user_envs_cfg": false
    },
    "nbTranslate": {
      "displayLangs": [
        "*"
      ],
      "hotkey": "alt-t",
      "langInMainMenu": true,
      "sourceLang": "en",
      "targetLang": "fr",
      "useGoogleTranslate": true
    },
    "toc": {
      "base_numbering": 1,
      "nav_menu": {},
      "number_sections": false,
      "sideBar": true,
      "skip_h1_title": true,
      "title_cell": "Table of Contents",
      "title_sidebar": "Contents",
      "toc_cell": false,
      "toc_position": {},
      "toc_section_display": true,
      "toc_window_display": false
    },
    "varInspector": {
      "cols": {
        "lenName": 16,
        "lenType": 16,
        "lenVar": 40
      },
      "kernels_config": {
        "python": {
          "delete_cmd_postfix": "",
          "delete_cmd_prefix": "del ",
          "library": "var_list.py",
          "varRefreshCmd": "print(var_dic_list())"
        },
        "r": {
          "delete_cmd_postfix": ") ",
          "delete_cmd_prefix": "rm(",
          "library": "var_list.r",
          "varRefreshCmd": "cat(var_dic_list()) "
        }
      },
      "types_to_exclude": [
        "module",
        "function",
        "builtin_function_or_method",
        "instance",
        "_Feature"
      ],
      "window_display": false
    }
  },
  "nbformat": 4,
  "nbformat_minor": 0
}
