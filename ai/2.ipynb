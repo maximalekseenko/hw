{
  "cells": [
    {
      "cell_type": "markdown",
      "metadata": {},
      "source": [
        "## Libraries"
      ]
    },
    {
      "cell_type": "code",
      "execution_count": null,
      "metadata": {},
      "outputs": [],
      "source": [
        "! pip install numpy\n",
        "! pip install pandas\n",
        "! pip install scikit-learn"
      ]
    },
    {
      "cell_type": "code",
      "execution_count": 8,
      "metadata": {},
      "outputs": [],
      "source": [
        "import numpy as np\n",
        "import pandas as pd\n",
        "from sklearn import preprocessing\n",
        "from IPython.display import display"
      ]
    },
    {
      "cell_type": "markdown",
      "metadata": {},
      "source": [
        "## 1.3.1\n",
        "Создать 8x8 матрицу и заполнить её в шахматном порядке нулями и \n",
        "единицами."
      ]
    },
    {
      "cell_type": "code",
      "execution_count": 3,
      "metadata": {},
      "outputs": [
        {
          "data": {
            "text/plain": [
              "array([[1., 0., 1., 0., 1., 0., 1., 0.],\n",
              "       [0., 1., 0., 1., 0., 1., 0., 1.],\n",
              "       [1., 0., 1., 0., 1., 0., 1., 0.],\n",
              "       [0., 1., 0., 1., 0., 1., 0., 1.],\n",
              "       [1., 0., 1., 0., 1., 0., 1., 0.],\n",
              "       [0., 1., 0., 1., 0., 1., 0., 1.],\n",
              "       [1., 0., 1., 0., 1., 0., 1., 0.],\n",
              "       [0., 1., 0., 1., 0., 1., 0., 1.]])"
            ]
          },
          "metadata": {},
          "output_type": "display_data"
        },
        {
          "data": {
            "text/plain": [
              "array([[0., 1., 0., 1., 0., 1., 0., 1.],\n",
              "       [1., 0., 1., 0., 1., 0., 1., 0.],\n",
              "       [0., 1., 0., 1., 0., 1., 0., 1.],\n",
              "       [1., 0., 1., 0., 1., 0., 1., 0.],\n",
              "       [0., 1., 0., 1., 0., 1., 0., 1.],\n",
              "       [1., 0., 1., 0., 1., 0., 1., 0.],\n",
              "       [0., 1., 0., 1., 0., 1., 0., 1.],\n",
              "       [1., 0., 1., 0., 1., 0., 1., 0.]])"
            ]
          },
          "metadata": {},
          "output_type": "display_data"
        }
      ],
      "source": [
        "_matrix = np.zeros([8,8])\n",
        "_matrix[::2, ::2] = 1\n",
        "_matrix[1::2, 1::2] = 1\n",
        "display(_matrix)\n",
        "\n",
        "_matrix = np.ones([8,8])\n",
        "_matrix[::2, ::2] = 0\n",
        "_matrix[1::2, 1::2] = 0\n",
        "display(_matrix)"
      ]
    },
    {
      "cell_type": "markdown",
      "metadata": {},
      "source": [
        "## 1.3.2\n",
        "Создать 5x5 матрицу со значениями в строках от 0 до 4. Для создания \n",
        "необходимо использовать функцию arrange."
      ]
    },
    {
      "cell_type": "code",
      "execution_count": null,
      "metadata": {},
      "outputs": [],
      "source": [
        "_matrix = np.array([np.arange(5) for _ in range(5)])\n",
        "\n",
        "_matrix"
      ]
    },
    {
      "cell_type": "markdown",
      "metadata": {},
      "source": [
        "## 1.3.3\n",
        "Создать массив 3x3x3 со случайными значениями. "
      ]
    },
    {
      "cell_type": "code",
      "execution_count": null,
      "metadata": {},
      "outputs": [],
      "source": [
        "np.random.rand(3,3,3)"
      ]
    },
    {
      "cell_type": "markdown",
      "metadata": {},
      "source": [
        "## 1.3.4\n",
        "Создать матрицу с 0 внутри, и 1 на границах. "
      ]
    },
    {
      "cell_type": "code",
      "execution_count": 7,
      "metadata": {},
      "outputs": [
        {
          "data": {
            "text/plain": [
              "array([[1., 1., 1., 1., 1., 1., 1., 1., 1., 1.],\n",
              "       [1., 0., 0., 0., 0., 0., 0., 0., 0., 1.],\n",
              "       [1., 0., 0., 0., 0., 0., 0., 0., 0., 1.],\n",
              "       [1., 0., 0., 0., 0., 0., 0., 0., 0., 1.],\n",
              "       [1., 0., 0., 0., 0., 0., 0., 0., 0., 1.],\n",
              "       [1., 0., 0., 0., 0., 0., 0., 0., 0., 1.],\n",
              "       [1., 0., 0., 0., 0., 0., 0., 0., 0., 1.],\n",
              "       [1., 0., 0., 0., 0., 0., 0., 0., 0., 1.],\n",
              "       [1., 0., 0., 0., 0., 0., 0., 0., 0., 1.],\n",
              "       [1., 1., 1., 1., 1., 1., 1., 1., 1., 1.]])"
            ]
          },
          "metadata": {},
          "output_type": "display_data"
        },
        {
          "data": {
            "text/plain": [
              "array([[1., 1., 1., 1., 1., 1., 1., 1., 1., 1.],\n",
              "       [1., 1., 1., 1., 1., 1., 1., 1., 1., 1.],\n",
              "       [1., 1., 0., 0., 0., 0., 0., 0., 1., 1.],\n",
              "       [1., 1., 0., 0., 0., 0., 0., 0., 1., 1.],\n",
              "       [1., 1., 0., 0., 0., 0., 0., 0., 1., 1.],\n",
              "       [1., 1., 0., 0., 0., 0., 0., 0., 1., 1.],\n",
              "       [1., 1., 0., 0., 0., 0., 0., 0., 1., 1.],\n",
              "       [1., 1., 0., 0., 0., 0., 0., 0., 1., 1.],\n",
              "       [1., 1., 1., 1., 1., 1., 1., 1., 1., 1.],\n",
              "       [1., 1., 1., 1., 1., 1., 1., 1., 1., 1.]])"
            ]
          },
          "metadata": {},
          "output_type": "display_data"
        }
      ],
      "source": [
        "_matrix = np.ones((10,10))\n",
        "_matrix[1:-1, 1:-1] = 0\n",
        "display(_matrix)\n",
        "\n",
        "_matrix = np.ones((10,10))\n",
        "_matrix[2:-2, 2:-2] = 0\n",
        "display(_matrix)"
      ]
    },
    {
      "cell_type": "markdown",
      "metadata": {},
      "source": [
        "## 1.3.5\n",
        "Создайте массив и отсортируйте его по убыванию."
      ]
    },
    {
      "cell_type": "code",
      "execution_count": null,
      "metadata": {},
      "outputs": [],
      "source": [
        "np.sort(np.random.rand(10))[::-1]"
      ]
    },
    {
      "cell_type": "markdown",
      "metadata": {},
      "source": [
        "## 1.3.6\n",
        "Создайте матрицу, выведите ее форму, размер и размерность. "
      ]
    },
    {
      "cell_type": "code",
      "execution_count": null,
      "metadata": {},
      "outputs": [],
      "source": [
        "_matrix = np.random.rand(3,3,3)\n",
        "\n",
        "_matrix.shape, _matrix.size, _matrix.ndim"
      ]
    },
    {
      "cell_type": "markdown",
      "metadata": {},
      "source": [
        "## 2.3.1\n",
        "Найдитн евклидово расстояние между двумя Series (точками) a и b, не \n",
        "используя встроенную формулу."
      ]
    },
    {
      "cell_type": "code",
      "execution_count": null,
      "metadata": {},
      "outputs": [],
      "source": [
        "_series1 = pd.Series([2, 4, 6, 8])\n",
        "_series2 = pd.Series([1, 3, 5, 7])\n",
        "\n",
        "# Решение \n",
        "sum((_series2 - _series1) ** 2) ** 0.5"
      ]
    },
    {
      "cell_type": "markdown",
      "metadata": {},
      "source": [
        "## 2.3.2\n",
        "Найдите в Интернете ссылку на любой csv файл и сформируйте из него \n",
        "фрейм данных (например, коллекцию фреймов данных можно найти \n",
        "здесь: https://github.com/akmand/datasets). "
      ]
    },
    {
      "cell_type": "code",
      "execution_count": null,
      "metadata": {},
      "outputs": [],
      "source": [
        "_series = pd.read_csv(\"./Datasheets.csv\", sep='|')\n",
        "_series"
      ]
    },
    {
      "cell_type": "markdown",
      "metadata": {},
      "source": [
        "## 2.3.3\n",
        "Проделайте с получившемся из предыдущего задания фреймом данных \n",
        "те же действия, что и в примерах 2.2.5-2.2.7."
      ]
    },
    {
      "cell_type": "code",
      "execution_count": null,
      "metadata": {},
      "outputs": [],
      "source": [
        "_series = pd.read_csv(\"./Datasheets.csv\", sep='|')"
      ]
    },
    {
      "cell_type": "code",
      "execution_count": null,
      "metadata": {},
      "outputs": [],
      "source": [
        "_series.head(2)"
      ]
    },
    {
      "cell_type": "code",
      "execution_count": null,
      "metadata": {},
      "outputs": [],
      "source": [
        "_series.tail(3)"
      ]
    },
    {
      "cell_type": "code",
      "execution_count": null,
      "metadata": {},
      "outputs": [],
      "source": [
        "_series.shape"
      ]
    },
    {
      "cell_type": "code",
      "execution_count": null,
      "metadata": {},
      "outputs": [],
      "source": [
        "_series.describe()"
      ]
    },
    {
      "cell_type": "code",
      "execution_count": null,
      "metadata": {},
      "outputs": [],
      "source": [
        "_series.iloc[1:4]"
      ]
    },
    {
      "cell_type": "code",
      "execution_count": null,
      "metadata": {},
      "outputs": [],
      "source": [
        "_series[_series[\"role\"] == \"HQ\"].head(2)"
      ]
    },
    {
      "cell_type": "markdown",
      "metadata": {},
      "source": [
        "## 3.3.2\n",
        "Загрузить фрейм данных по ссылке: \n",
        "https://raw.githubusercontent.com/akmand/datasets/master/iris.csv. \n",
        "Необходимо выполнить нормализацию первого числового признака \n",
        "(sepal_length_cm) с использованием минимаксного преобразования, а \n",
        "второго (sepal_width_cm) с задействованием z-масштабирования."
      ]
    },
    {
      "cell_type": "code",
      "execution_count": null,
      "metadata": {},
      "outputs": [],
      "source": [
        "_series = pd.read_csv(\"https://raw.githubusercontent.com/akmand/datasets/master/iris.csv\")\n",
        "_series"
      ]
    },
    {
      "cell_type": "code",
      "execution_count": null,
      "metadata": {},
      "outputs": [],
      "source": [
        "_normalized_series = _series\n",
        "_normalized_series[['sepal_length_cm']] = preprocessing.MinMaxScaler().fit_transform(_series[['sepal_length_cm']])\n",
        "_normalized_series[['sepal_width_cm']] = preprocessing.MaxAbsScaler().fit_transform(_series[['sepal_width_cm']])\n",
        "\n",
        "\n",
        "_series"
      ]
    },
    {
      "cell_type": "markdown",
      "metadata": {},
      "source": [
        "## extra"
      ]
    },
    {
      "cell_type": "markdown",
      "metadata": {},
      "source": [
        "### 2.2.6"
      ]
    },
    {
      "cell_type": "code",
      "execution_count": 39,
      "metadata": {},
      "outputs": [
        {
          "data": {
            "text/html": [
              "<div>\n",
              "<style scoped>\n",
              "    .dataframe tbody tr th:only-of-type {\n",
              "        vertical-align: middle;\n",
              "    }\n",
              "\n",
              "    .dataframe tbody tr th {\n",
              "        vertical-align: top;\n",
              "    }\n",
              "\n",
              "    .dataframe thead th {\n",
              "        text-align: right;\n",
              "    }\n",
              "</style>\n",
              "<table border=\"1\" class=\"dataframe\">\n",
              "  <thead>\n",
              "    <tr style=\"text-align: right;\">\n",
              "      <th></th>\n",
              "      <th>name</th>\n",
              "      <th>role</th>\n",
              "    </tr>\n",
              "  </thead>\n",
              "  <tbody>\n",
              "    <tr>\n",
              "      <th>1</th>\n",
              "      <td>Venerable Contemptor Dreadnought</td>\n",
              "      <td>Elites</td>\n",
              "    </tr>\n",
              "    <tr>\n",
              "      <th>2</th>\n",
              "      <td>Venerable Land Raider</td>\n",
              "      <td>Heavy Support</td>\n",
              "    </tr>\n",
              "    <tr>\n",
              "      <th>3</th>\n",
              "      <td>Trajann Valoris</td>\n",
              "      <td>HQ</td>\n",
              "    </tr>\n",
              "    <tr>\n",
              "      <th>4</th>\n",
              "      <td>Shield-Captain</td>\n",
              "      <td>HQ</td>\n",
              "    </tr>\n",
              "    <tr>\n",
              "      <th>5</th>\n",
              "      <td>Shield-Captain in Allarus Terminator Armour</td>\n",
              "      <td>HQ</td>\n",
              "    </tr>\n",
              "  </tbody>\n",
              "</table>\n",
              "</div>"
            ],
            "text/plain": [
              "                                          name           role\n",
              "1             Venerable Contemptor Dreadnought         Elites\n",
              "2                        Venerable Land Raider  Heavy Support\n",
              "3                              Trajann Valoris             HQ\n",
              "4                               Shield-Captain             HQ\n",
              "5  Shield-Captain in Allarus Terminator Armour             HQ"
            ]
          },
          "metadata": {},
          "output_type": "display_data"
        },
        {
          "data": {
            "text/html": [
              "<div>\n",
              "<style scoped>\n",
              "    .dataframe tbody tr th:only-of-type {\n",
              "        vertical-align: middle;\n",
              "    }\n",
              "\n",
              "    .dataframe tbody tr th {\n",
              "        vertical-align: top;\n",
              "    }\n",
              "\n",
              "    .dataframe thead th {\n",
              "        text-align: right;\n",
              "    }\n",
              "</style>\n",
              "<table border=\"1\" class=\"dataframe\">\n",
              "  <thead>\n",
              "    <tr style=\"text-align: right;\">\n",
              "      <th></th>\n",
              "      <th>name</th>\n",
              "      <th>role</th>\n",
              "    </tr>\n",
              "  </thead>\n",
              "  <tbody>\n",
              "    <tr>\n",
              "      <th>1</th>\n",
              "      <td>Venerable Contemptor Dreadnought</td>\n",
              "      <td>Elites</td>\n",
              "    </tr>\n",
              "    <tr>\n",
              "      <th>2</th>\n",
              "      <td>Venerable Land Raider</td>\n",
              "      <td>Heavy Support</td>\n",
              "    </tr>\n",
              "    <tr>\n",
              "      <th>3</th>\n",
              "      <td>Trajann Valoris</td>\n",
              "      <td>HQ</td>\n",
              "    </tr>\n",
              "    <tr>\n",
              "      <th>4</th>\n",
              "      <td>Shield-Captain</td>\n",
              "      <td>HQ</td>\n",
              "    </tr>\n",
              "  </tbody>\n",
              "</table>\n",
              "</div>"
            ],
            "text/plain": [
              "                               name           role\n",
              "1  Venerable Contemptor Dreadnought         Elites\n",
              "2             Venerable Land Raider  Heavy Support\n",
              "3                   Trajann Valoris             HQ\n",
              "4                    Shield-Captain             HQ"
            ]
          },
          "metadata": {},
          "output_type": "display_data"
        }
      ],
      "source": [
        "# df = pd.read_csv(\"https://raw.githubusercontent.com/chrisalbon/simulated_datasets/master/titanic.csv\")\n",
        "df = pd.read_csv(\"./Datasheets.csv\",sep='|')\n",
        "# display(df)\n",
        "display(df.loc[1:5, [\"name\", \"role\"]])\n",
        "display(df.iloc[1:5, [1, 5]])"
      ]
    },
    {
      "cell_type": "markdown",
      "metadata": {},
      "source": [
        "### 2.2.7"
      ]
    },
    {
      "cell_type": "code",
      "execution_count": 42,
      "metadata": {},
      "outputs": [
        {
          "data": {
            "text/html": [
              "<div>\n",
              "<style scoped>\n",
              "    .dataframe tbody tr th:only-of-type {\n",
              "        vertical-align: middle;\n",
              "    }\n",
              "\n",
              "    .dataframe tbody tr th {\n",
              "        vertical-align: top;\n",
              "    }\n",
              "\n",
              "    .dataframe thead th {\n",
              "        text-align: right;\n",
              "    }\n",
              "</style>\n",
              "<table border=\"1\" class=\"dataframe\">\n",
              "  <thead>\n",
              "    <tr style=\"text-align: right;\">\n",
              "      <th></th>\n",
              "      <th>id</th>\n",
              "      <th>name</th>\n",
              "      <th>link</th>\n",
              "      <th>faction_id</th>\n",
              "      <th>source_id</th>\n",
              "      <th>role</th>\n",
              "      <th>unit_composition</th>\n",
              "      <th>transport</th>\n",
              "      <th>power_points</th>\n",
              "      <th>priest</th>\n",
              "      <th>psyker</th>\n",
              "      <th>open_play_only</th>\n",
              "      <th>crusade_only</th>\n",
              "      <th>virtual</th>\n",
              "      <th>Cost</th>\n",
              "      <th>cost_per_unit</th>\n",
              "      <th>Unnamed: 16</th>\n",
              "    </tr>\n",
              "  </thead>\n",
              "  <tbody>\n",
              "    <tr>\n",
              "      <th>61</th>\n",
              "      <td>2085</td>\n",
              "      <td>Archaeopter Transvector</td>\n",
              "      <td>https://wahapedia.ru/wh40k9ed/factions/adeptus...</td>\n",
              "      <td>AdM</td>\n",
              "      <td>15.0</td>\n",
              "      <td>Flyers</td>\n",
              "      <td>An Archaeopter Transvector is equipped with: 2...</td>\n",
              "      <td>This model has a &lt;a href=\"/wh40k9ed/the-rules/...</td>\n",
              "      <td>6</td>\n",
              "      <td>NaN</td>\n",
              "      <td>NaN</td>\n",
              "      <td>False</td>\n",
              "      <td>False</td>\n",
              "      <td>False</td>\n",
              "      <td>NaN</td>\n",
              "      <td>False</td>\n",
              "      <td>NaN</td>\n",
              "    </tr>\n",
              "    <tr>\n",
              "      <th>62</th>\n",
              "      <td>2086</td>\n",
              "      <td>Archaeopter Stratoraptor</td>\n",
              "      <td>https://wahapedia.ru/wh40k9ed/factions/adeptus...</td>\n",
              "      <td>AdM</td>\n",
              "      <td>15.0</td>\n",
              "      <td>Flyers</td>\n",
              "      <td>An Archaeopter Stratoraptor is equipped with: ...</td>\n",
              "      <td>NaN</td>\n",
              "      <td>10</td>\n",
              "      <td>NaN</td>\n",
              "      <td>NaN</td>\n",
              "      <td>False</td>\n",
              "      <td>False</td>\n",
              "      <td>False</td>\n",
              "      <td>NaN</td>\n",
              "      <td>False</td>\n",
              "      <td>NaN</td>\n",
              "    </tr>\n",
              "    <tr>\n",
              "      <th>63</th>\n",
              "      <td>2087</td>\n",
              "      <td>Archaeopter Fusilave</td>\n",
              "      <td>https://wahapedia.ru/wh40k9ed/factions/adeptus...</td>\n",
              "      <td>AdM</td>\n",
              "      <td>15.0</td>\n",
              "      <td>Flyers</td>\n",
              "      <td>An Archaeopter Fusilave is equipped with: 4 co...</td>\n",
              "      <td>NaN</td>\n",
              "      <td>8</td>\n",
              "      <td>NaN</td>\n",
              "      <td>NaN</td>\n",
              "      <td>False</td>\n",
              "      <td>False</td>\n",
              "      <td>False</td>\n",
              "      <td>NaN</td>\n",
              "      <td>False</td>\n",
              "      <td>NaN</td>\n",
              "    </tr>\n",
              "  </tbody>\n",
              "</table>\n",
              "</div>"
            ],
            "text/plain": [
              "      id                      name  \\\n",
              "61  2085   Archaeopter Transvector   \n",
              "62  2086  Archaeopter Stratoraptor   \n",
              "63  2087      Archaeopter Fusilave   \n",
              "\n",
              "                                                 link faction_id  source_id  \\\n",
              "61  https://wahapedia.ru/wh40k9ed/factions/adeptus...        AdM       15.0   \n",
              "62  https://wahapedia.ru/wh40k9ed/factions/adeptus...        AdM       15.0   \n",
              "63  https://wahapedia.ru/wh40k9ed/factions/adeptus...        AdM       15.0   \n",
              "\n",
              "      role                                   unit_composition  \\\n",
              "61  Flyers  An Archaeopter Transvector is equipped with: 2...   \n",
              "62  Flyers  An Archaeopter Stratoraptor is equipped with: ...   \n",
              "63  Flyers  An Archaeopter Fusilave is equipped with: 4 co...   \n",
              "\n",
              "                                            transport power_points priest  \\\n",
              "61  This model has a <a href=\"/wh40k9ed/the-rules/...            6    NaN   \n",
              "62                                                NaN           10    NaN   \n",
              "63                                                NaN            8    NaN   \n",
              "\n",
              "   psyker  open_play_only  crusade_only  virtual  Cost  cost_per_unit  \\\n",
              "61    NaN           False         False    False   NaN          False   \n",
              "62    NaN           False         False    False   NaN          False   \n",
              "63    NaN           False         False    False   NaN          False   \n",
              "\n",
              "    Unnamed: 16  \n",
              "61          NaN  \n",
              "62          NaN  \n",
              "63          NaN  "
            ]
          },
          "metadata": {},
          "output_type": "display_data"
        }
      ],
      "source": [
        "df = pd.read_csv(\"./Datasheets.csv\",sep='|')\n",
        "# display(df)\n",
        "display(df[(df[\"role\"] == \"Flyers\") & (df[\"faction_id\"] == 'AdM')])"
      ]
    }
  ],
  "metadata": {
    "colab": {
      "collapsed_sections": [],
      "name": "Тема 10. Визуализация данных.Табличные данные.ipynb",
      "provenance": []
    },
    "hide_input": false,
    "kernelspec": {
      "display_name": "Python 3",
      "language": "python",
      "name": "python3"
    },
    "language_info": {
      "codemirror_mode": {
        "name": "ipython",
        "version": 3
      },
      "file_extension": ".py",
      "mimetype": "text/x-python",
      "name": "python",
      "nbconvert_exporter": "python",
      "pygments_lexer": "ipython3",
      "version": "3.10.7"
    },
    "latex_envs": {
      "LaTeX_envs_menu_present": true,
      "autoclose": false,
      "autocomplete": true,
      "bibliofile": "biblio.bib",
      "cite_by": "apalike",
      "current_citInitial": 1,
      "eqLabelWithNumbers": true,
      "eqNumInitial": 1,
      "hotkeys": {
        "equation": "Ctrl-E",
        "itemize": "Ctrl-I"
      },
      "labels_anchors": false,
      "latex_user_defs": false,
      "report_style_numbering": false,
      "user_envs_cfg": false
    },
    "nbTranslate": {
      "displayLangs": [
        "*"
      ],
      "hotkey": "alt-t",
      "langInMainMenu": true,
      "sourceLang": "en",
      "targetLang": "fr",
      "useGoogleTranslate": true
    },
    "toc": {
      "base_numbering": 1,
      "nav_menu": {},
      "number_sections": false,
      "sideBar": true,
      "skip_h1_title": true,
      "title_cell": "Table of Contents",
      "title_sidebar": "Contents",
      "toc_cell": false,
      "toc_position": {},
      "toc_section_display": true,
      "toc_window_display": false
    },
    "varInspector": {
      "cols": {
        "lenName": 16,
        "lenType": 16,
        "lenVar": 40
      },
      "kernels_config": {
        "python": {
          "delete_cmd_postfix": "",
          "delete_cmd_prefix": "del ",
          "library": "var_list.py",
          "varRefreshCmd": "print(var_dic_list())"
        },
        "r": {
          "delete_cmd_postfix": ") ",
          "delete_cmd_prefix": "rm(",
          "library": "var_list.r",
          "varRefreshCmd": "cat(var_dic_list()) "
        }
      },
      "types_to_exclude": [
        "module",
        "function",
        "builtin_function_or_method",
        "instance",
        "_Feature"
      ],
      "window_display": false
    }
  },
  "nbformat": 4,
  "nbformat_minor": 0
}
