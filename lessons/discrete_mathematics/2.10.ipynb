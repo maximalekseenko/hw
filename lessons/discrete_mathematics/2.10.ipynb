{
  "cells": [
    {
      "cell_type": "code",
      "execution_count": 3,
      "metadata": {},
      "outputs": [],
      "source": [
        "# def GenPr(__k:int, __m:int):\n",
        "#     # // 1\n",
        "#     _n = __m + 2 * __k - 2\n",
        "#     _A = [1] * __k\n",
        "#     _d = 3\n",
        "\n",
        "#     while True:\n",
        "#         # // 2\n",
        "#         if _d ** 2 > _n:\n",
        "#             # // 6\n",
        "#             for _i in range(__k, 0, -1):\n",
        "#                 if _A[_i] == 1:\n",
        "#                     return __m + 2 * i - 2\n",
        "#         else:\n",
        "#             # // 3\n",
        "#             _r = __m % _d\n",
        "#             _j = 1\n",
        "#             if _r > 0 and _r % 2 == 0:\n",
        "#                 _j = _j + (_d - _r) / 2\n",
        "#             if __m <= _d:\n",
        "#                 _j = _j + _d\n",
        "#             # // 4\n",
        "#             _i = _j\n",
        "#             while (_i > __k):\n",
        "#                 print(_d)\n",
        "#                 _A[_i] = 0\n",
        "#                 _i += _d\n",
        "#             # // 5\n",
        "#             if _d % 6 == 0:\n",
        "\n",
        "\n",
        "    \n"
      ]
    },
    {
      "cell_type": "code",
      "execution_count": 4,
      "metadata": {},
      "outputs": [],
      "source": [
        "import Crypto.Util.number\n",
        "import os\n",
        "\n",
        "\n",
        "def GenPr(_length): \n",
        "    return Crypto.Util.number.getPrime(_length, os.urandom)\n"
      ]
    },
    {
      "cell_type": "code",
      "execution_count": 11,
      "metadata": {},
      "outputs": [
        {
          "name": "stdout",
          "output_type": "stream",
          "text": [
            "prime 1: 10290611996827086747615582399466074160152012414978642122346628521315420026060250569020427647537725764692606202631718205870133201952651940908944157136124983\n",
            "prime 2: 12524013883758522462656871989438015036014052940719746704476956460642934888864147419953777746219978056774419489660217728635502740776333822849443702709297633\n",
            "\n",
            "+: 22814625880585609210272454388904089196166065355698388826823584981958354914924397988974205393757703821467025692291935934505635942728985763758387859845422616\n",
            "-: -2233401886931435715041289589971940875862040525741104582130327939327514862803896850933350098682252292081813287028499522765369538823681881940499545573172650\n",
            "*: 128879767520634446731662503921023021705836893199037918062691946173574239309630731550564777047493966041638331426220609389190719346987546149086580041529295673877450047750492348035815398869263090062233985813323136763752872734674086539555687519376831921216437656153529135321854115915671830624708680040575234065239\n",
            "/: 0.8216704398716955\n",
            "%: 10290611996827086747615582399466074160152012414978642122346628521315420026060250569020427647537725764692606202631718205870133201952651940908944157136124983\n",
            "^: 5\n"
          ]
        }
      ],
      "source": [
        "prime1 = GenPr(512)\n",
        "prime2 = GenPr(512)\n",
        "print(\"prime 1:\", prime1)\n",
        "print(\"prime 2:\", prime2)\n",
        "\n",
        "print()\n",
        "\n",
        "print(\"+:\", prime1+prime2)\n",
        "print(\"-:\", prime1-prime2)\n",
        "print(\"*:\", prime1*prime2)\n",
        "print(\"/:\", prime1/prime2)\n",
        "print(\"%:\", prime1%prime2)\n",
        "\n",
        "n, m = 5, 6\n",
        "print(\"^:\", prime1 ** n % m)"
      ]
    }
  ],
  "metadata": {
    "colab": {
      "collapsed_sections": [],
      "name": "Тема 10. Визуализация данных.Табличные данные.ipynb",
      "provenance": []
    },
    "hide_input": false,
    "kernelspec": {
      "display_name": "Python 3",
      "language": "python",
      "name": "python3"
    },
    "language_info": {
      "codemirror_mode": {
        "name": "ipython",
        "version": 3
      },
      "file_extension": ".py",
      "mimetype": "text/x-python",
      "name": "python",
      "nbconvert_exporter": "python",
      "pygments_lexer": "ipython3",
      "version": "3.10.7"
    },
    "latex_envs": {
      "LaTeX_envs_menu_present": true,
      "autoclose": false,
      "autocomplete": true,
      "bibliofile": "biblio.bib",
      "cite_by": "apalike",
      "current_citInitial": 1,
      "eqLabelWithNumbers": true,
      "eqNumInitial": 1,
      "hotkeys": {
        "equation": "Ctrl-E",
        "itemize": "Ctrl-I"
      },
      "labels_anchors": false,
      "latex_user_defs": false,
      "report_style_numbering": false,
      "user_envs_cfg": false
    },
    "nbTranslate": {
      "displayLangs": [
        "*"
      ],
      "hotkey": "alt-t",
      "langInMainMenu": true,
      "sourceLang": "en",
      "targetLang": "fr",
      "useGoogleTranslate": true
    },
    "toc": {
      "base_numbering": 1,
      "nav_menu": {},
      "number_sections": false,
      "sideBar": true,
      "skip_h1_title": true,
      "title_cell": "Table of Contents",
      "title_sidebar": "Contents",
      "toc_cell": false,
      "toc_position": {},
      "toc_section_display": true,
      "toc_window_display": false
    },
    "varInspector": {
      "cols": {
        "lenName": 16,
        "lenType": 16,
        "lenVar": 40
      },
      "kernels_config": {
        "python": {
          "delete_cmd_postfix": "",
          "delete_cmd_prefix": "del ",
          "library": "var_list.py",
          "varRefreshCmd": "print(var_dic_list())"
        },
        "r": {
          "delete_cmd_postfix": ") ",
          "delete_cmd_prefix": "rm(",
          "library": "var_list.r",
          "varRefreshCmd": "cat(var_dic_list()) "
        }
      },
      "types_to_exclude": [
        "module",
        "function",
        "builtin_function_or_method",
        "instance",
        "_Feature"
      ],
      "window_display": false
    }
  },
  "nbformat": 4,
  "nbformat_minor": 0
}
