{
  "cells": [
    {
      "cell_type": "code",
      "execution_count": null,
      "metadata": {},
      "outputs": [],
      "source": [
        "ALPHABET = \"abcdefghijklmnopqrstuvwxyz\"\n",
        "\n",
        "\n",
        "def _Fix_To_Alphabet_Index(__index:int) -> int:\n",
        "    return (__index % len(ALPHABET) + len(ALPHABET)) % len(ALPHABET)\n",
        "\n",
        "\n",
        "def SimpleEncode(__text:str, __key:int):\n",
        "    _out_text = \"\"\n",
        "\n",
        "    for _char in __text:\n",
        "        if _char in ALPHABET:\n",
        "            _out_index = ALPHABET.index(_char)\n",
        "            _out_text += ALPHABET[_Fix_To_Alphabet_Index(_out_index + __key)]\n",
        "        else:\n",
        "            _out_text += _char\n",
        "\n",
        "    return _out_text\n",
        "\n",
        "\n",
        "def SimpleDecode(__text:str, __key:str):\n",
        "    _out_text = \"\"\n",
        "\n",
        "    for _char in __text:\n",
        "        if _char in ALPHABET:\n",
        "            _out_index = ALPHABET.index(_char)\n",
        "            _out_text += ALPHABET[_Fix_To_Alphabet_Index(_out_index - __key)]\n",
        "        else:\n",
        "            _out_text += _char\n",
        "            \n",
        "    return _out_text\n",
        "\n",
        "\n",
        "def HardEncode(__text:str, __key:int):\n",
        "    _out_text = \"\"\n",
        "\n",
        "    __key = list(map(lambda _d: int(_d), str(__key)))\n",
        "    \n",
        "    _key_index = -1\n",
        "\n",
        "    for _char in __text:\n",
        "        # increase key\n",
        "        _key_index = (_key_index + 1) % len(__key)\n",
        "\n",
        "        if _char in ALPHABET:\n",
        "            _out_index = ALPHABET.index(_char)\n",
        "            _out_text += ALPHABET[_Fix_To_Alphabet_Index(_out_index + __key[_key_index])]\n",
        "        else:\n",
        "            _out_text += _char\n",
        "\n",
        "    return _out_text\n",
        "\n",
        "\n",
        "def HardDecode(__text:str, __key:str):\n",
        "    _out_text = \"\"\n",
        "\n",
        "    __key = list(map(lambda _d: int(_d), str(__key)))\n",
        "    \n",
        "    _key_index = -1\n",
        "\n",
        "    for _char in __text:\n",
        "        # increase key\n",
        "        _key_index = (_key_index + 1) % len(__key)\n",
        "\n",
        "        if _char in ALPHABET:\n",
        "            _out_index = ALPHABET.index(_char)\n",
        "            _out_text += ALPHABET[_Fix_To_Alphabet_Index(_out_index - __key[_key_index])]\n",
        "        else:\n",
        "            _out_text += _char\n",
        "\n",
        "    return _out_text"
      ]
    },
    {
      "cell_type": "code",
      "execution_count": null,
      "metadata": {},
      "outputs": [],
      "source": [
        "data = \"\"\n",
        "with open(\"file.txt\") as file:\n",
        "    data = file.read()\n",
        "\n",
        "data = data.lower()\n",
        "data = data.translate(\n",
        "{\n",
        "    ord(' '): '',\n",
        "    ord('.'): '',\n",
        "    ord(','): '',\n",
        "    ord('!'): '',\n",
        "})\n",
        "\n",
        "data"
      ]
    },
    {
      "cell_type": "code",
      "execution_count": null,
      "metadata": {},
      "outputs": [],
      "source": [
        "KEY = 1234\n",
        "\n",
        "print(\"simple\")\n",
        "data_encoded = SimpleEncode(data, KEY)\n",
        "print(data_encoded)\n",
        "print(SimpleDecode(data_encoded, KEY))\n",
        "\n",
        "print(\"hard\")\n",
        "data_encoded = HardEncode(data, KEY)\n",
        "print(data_encoded)\n",
        "print(HardDecode(data_encoded, KEY))"
      ]
    }
  ],
  "metadata": {
    "colab": {
      "collapsed_sections": [],
      "name": "Тема 10. Визуализация данных.Табличные данные.ipynb",
      "provenance": []
    },
    "hide_input": false,
    "kernelspec": {
      "display_name": "Python 3",
      "language": "python",
      "name": "python3"
    },
    "language_info": {
      "codemirror_mode": {
        "name": "ipython",
        "version": 3
      },
      "file_extension": ".py",
      "mimetype": "text/x-python",
      "name": "python",
      "nbconvert_exporter": "python",
      "pygments_lexer": "ipython3",
      "version": "3.10.7"
    },
    "latex_envs": {
      "LaTeX_envs_menu_present": true,
      "autoclose": false,
      "autocomplete": true,
      "bibliofile": "biblio.bib",
      "cite_by": "apalike",
      "current_citInitial": 1,
      "eqLabelWithNumbers": true,
      "eqNumInitial": 1,
      "hotkeys": {
        "equation": "Ctrl-E",
        "itemize": "Ctrl-I"
      },
      "labels_anchors": false,
      "latex_user_defs": false,
      "report_style_numbering": false,
      "user_envs_cfg": false
    },
    "nbTranslate": {
      "displayLangs": [
        "*"
      ],
      "hotkey": "alt-t",
      "langInMainMenu": true,
      "sourceLang": "en",
      "targetLang": "fr",
      "useGoogleTranslate": true
    },
    "toc": {
      "base_numbering": 1,
      "nav_menu": {},
      "number_sections": false,
      "sideBar": true,
      "skip_h1_title": true,
      "title_cell": "Table of Contents",
      "title_sidebar": "Contents",
      "toc_cell": false,
      "toc_position": {},
      "toc_section_display": true,
      "toc_window_display": false
    },
    "varInspector": {
      "cols": {
        "lenName": 16,
        "lenType": 16,
        "lenVar": 40
      },
      "kernels_config": {
        "python": {
          "delete_cmd_postfix": "",
          "delete_cmd_prefix": "del ",
          "library": "var_list.py",
          "varRefreshCmd": "print(var_dic_list())"
        },
        "r": {
          "delete_cmd_postfix": ") ",
          "delete_cmd_prefix": "rm(",
          "library": "var_list.r",
          "varRefreshCmd": "cat(var_dic_list()) "
        }
      },
      "types_to_exclude": [
        "module",
        "function",
        "builtin_function_or_method",
        "instance",
        "_Feature"
      ],
      "window_display": false
    }
  },
  "nbformat": 4,
  "nbformat_minor": 0
}
