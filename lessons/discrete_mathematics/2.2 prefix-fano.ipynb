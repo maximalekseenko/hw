{
  "cells": [
    {
      "cell_type": "markdown",
      "metadata": {},
      "source": [
        "# 2: Написать программу, чтобы провести статистическую обработку текста"
      ]
    },
    {
      "cell_type": "code",
      "execution_count": 18,
      "metadata": {},
      "outputs": [],
      "source": [
        "import math\n",
        "\n",
        "\n",
        "def GetCharAmounts(__text:str, __char_len:int=1):\n",
        "    _ret_char_amounts = dict()\n",
        "\n",
        "    _index = 0\n",
        "    while _index < len(__text) - __char_len + 1:\n",
        "        _char = __text[_index:_index+__char_len]\n",
        "        if _char not in _ret_char_amounts:\n",
        "            _ret_char_amounts[_char] = 1\n",
        "        else: _ret_char_amounts[_char] += 1\n",
        "        _index+=1\n",
        "    return _ret_char_amounts\n",
        "\n",
        "\n",
        "def GetCharChances(__text:str, __char_len:int=1) -> dict[str, float]:\n",
        "    return { _char: _amount / len(__text)\n",
        "        for _char, _amount in GetCharAmounts(__text, __char_len).items()\n",
        "    }\n",
        "\n",
        "\n",
        "def GetEntropy(__text:str, __char_len:int=1) -> float:\n",
        "\n",
        "    char_chances = { _char: _amount / len(__text)\n",
        "        for _char, _amount in GetCharAmounts(__text, __char_len).items()\n",
        "    }\n",
        "\n",
        "    return -sum(\n",
        "        _chance * math.log2(_chance)\n",
        "        for _chance in char_chances.values()\n",
        "    )\n",
        "\n",
        "\n",
        "def MakeSchemeFano(__text:str, __char_len:int=1) -> list[str, float, str]:\n",
        "    _scheme = sorted(\n",
        "        map(\n",
        "            lambda i: list(i) + [\"\"],\n",
        "            GetCharChances(__text, __char_len).items()\n",
        "        ), \n",
        "        key=lambda i:-i[1]\n",
        "    )\n",
        "    _char_chances = list(map(lambda i: i[1], _scheme))\n",
        "\n",
        "    def _MakeScheme(_scheme: list[str, float]):\n",
        "        if len(_scheme) < 2: return\n",
        "\n",
        "        _center_index = 1\n",
        "        while sum(_char_chances[:_center_index]) < sum(_char_chances[_center_index:]): \n",
        "            _center_index += 1\n",
        "\n",
        "        for _item in _scheme[:_center_index]:\n",
        "            _item[2] += '0'\n",
        "        _MakeScheme(_scheme[:_center_index])\n",
        "\n",
        "        for _item in _scheme[_center_index:]:\n",
        "            _item[2] += '1'\n",
        "        _MakeScheme(_scheme[_center_index:])\n",
        "    _MakeScheme(_scheme)\n",
        "    return _scheme\n",
        "\n",
        "def MakeSchemeHafman(__text:str, __char_len:int=1) -> list[str, float, str]:\n",
        "    \n",
        "    _scheme = sorted(\n",
        "        map(\n",
        "            lambda i: list(i) + [\"\"],\n",
        "            GetCharChances(__text, __char_len).items()\n",
        "        ), \n",
        "        key=lambda i:-i[1]\n",
        "    )\n",
        "\n",
        "    _mapped_scheme = list(map(lambda i: [[i[0]]] + i[1:], _scheme))\n",
        "\n",
        "    def _MakeScheme(_mapped_scheme: list[str, float]):\n",
        "        if len(_mapped_scheme) <= 1: return\n",
        "        _mapped_scheme = sorted(_mapped_scheme, key=lambda i:-i[1])\n",
        "\n",
        "        # work with last\n",
        "        for _index in range(len(_scheme)):\n",
        "            if _scheme[_index][0] in _mapped_scheme[-1][0]: _scheme[_index][2] = '0' + _scheme[_index][2]\n",
        "            if _scheme[_index][0] in _mapped_scheme[-2][0]: _scheme[_index][2] = '1' + _scheme[_index][2]\n",
        "\n",
        "        # combine\n",
        "        _popped_val = _mapped_scheme.pop()\n",
        "        _mapped_scheme[-1][0] += _popped_val[0]\n",
        "        _mapped_scheme[-1][1] += _popped_val[1]\n",
        "        \n",
        "        _MakeScheme(_mapped_scheme)\n",
        "        \n",
        "    _MakeScheme(_mapped_scheme)\n",
        "\n",
        "    return _scheme\n",
        "\n",
        "\n",
        "\n",
        "def GetAvrLen(__text:str, __char_len:int=1, __scheme:list[str, float, str]|None=None):\n",
        "    if __scheme == None: __scheme = MakeScheme(__text, __char_len)\n",
        "    return sum(map(lambda line: line[1] * len(line[2]), __scheme))\n",
        "\n",
        "\n",
        "def Encode(text:str, scheme:list[str,float,str]):\n",
        "    _ret_text = text\n",
        "    for _item in scheme:\n",
        "        _ret_text = _ret_text.replace(_item[0],_item[2])\n",
        "    return _ret_text\n",
        "\n",
        "\n",
        "def Decode(text:str, scheme:list[str,float,str]):\n",
        "    if len(text) == 0 : return ''\n",
        "    _index = 0\n",
        "    while all(text[:_index] != _item[2] for _item in scheme):\n",
        "        _index += 1\n",
        "    return next(_item[0] for _item in scheme if text[:_index] == _item[2]) + Decode(text[_index:], scheme)\n"
      ]
    },
    {
      "cell_type": "code",
      "execution_count": 19,
      "metadata": {},
      "outputs": [
        {
          "name": "stdout",
          "output_type": "stream",
          "text": [
            "1.8895782867502309 3 0.3701405710832564\n"
          ]
        }
      ],
      "source": [
        "# 1. Определить энтропию, приходящуюся в среднем на одну букву, длину кода при равномерном кодировании и избыточность.\n",
        "\n",
        "char_amounts = GetCharAmounts(DATA)\n",
        "char_chances = GetCharChances(DATA)\n",
        "code_entropy = GetEntropy(DATA)\n",
        "\n",
        "# Определить длину кода\n",
        "code_len = math.ceil(math.log2(len(char_amounts)))\n",
        "\n",
        "\n",
        "# Определить избыточность\n",
        "code_ext = 1 - (code_entropy / code_len)\n",
        "\n",
        "print(code_entropy, code_len, code_ext)"
      ]
    },
    {
      "cell_type": "code",
      "execution_count": 20,
      "metadata": {},
      "outputs": [
        {
          "data": {
            "text/plain": [
              "[['a', 0.5789473684210527, '00'],\n",
              " ['h', 0.15789473684210525, '010'],\n",
              " ['j', 0.10526315789473684, '011'],\n",
              " ['d', 0.05263157894736842, '10'],\n",
              " ['f', 0.05263157894736842, '110'],\n",
              " ['g', 0.05263157894736842, '111']]"
            ]
          },
          "execution_count": 20,
          "metadata": {},
          "output_type": "execute_result"
        }
      ],
      "source": [
        "# 2. Построить схему алфавитного кодирования для однобуквенных сочетаний методом Шеннона-Фано. \n",
        "\n",
        "\n",
        "MakeScheme(DATA)"
      ]
    },
    {
      "cell_type": "code",
      "execution_count": 21,
      "metadata": {},
      "outputs": [
        {
          "name": "stdout",
          "output_type": "stream",
          "text": [
            "1.9473684210526314 0.9703239850879565\n",
            "aaaaaaaaaaadfghhhjj\n",
            "0000000000011101111011111101010110110\n",
            "aaaaaaaaaaadfghhhjj\n"
          ]
        }
      ],
      "source": [
        "# 3. Найти среднюю длину элементарного кода, эффективность сжатия. Закодировать текст. Декодировать текст. \n",
        "\n",
        "scheme = MakeSchemeFano(DATA)\n",
        "\n",
        "arv_len = sum(map(lambda line: line[1] * len(line[2]), scheme))\n",
        "\n",
        "print(arv_len, code_entropy/arv_len)\n",
        "text = DATA\n",
        "text_encoded = Encode(text, scheme)\n",
        "text_decoded = Decode(text_encoded, scheme)\n",
        "\n",
        "print(text)\n",
        "print(text_encoded)\n",
        "print(text_decoded)"
      ]
    },
    {
      "cell_type": "code",
      "execution_count": 22,
      "metadata": {},
      "outputs": [
        {
          "data": {
            "text/plain": [
              "[['a', 0.5789473684210527, '0'],\n",
              " ['h', 0.15789473684210525, '10'],\n",
              " ['j', 0.10526315789473684, '110'],\n",
              " ['d', 0.05263157894736842, '1110'],\n",
              " ['f', 0.05263157894736842, '11110'],\n",
              " ['g', 0.05263157894736842, '11111']]"
            ]
          },
          "execution_count": 22,
          "metadata": {},
          "output_type": "execute_result"
        }
      ],
      "source": [
        "# 4. Построить схему алфавитного кодирования для двухбуквенных сочетаний методом Шеннона-Фано. Найти среднюю длину элементарного кода, эффективность сжатия, сравнить с результатами для однобуквенных сочетаний. Закодировать текст. Декодировать текст.\n",
        "\n",
        "MakeSchemeFano(DATA,1)"
      ]
    }
  ],
  "metadata": {
    "colab": {
      "collapsed_sections": [],
      "name": "Тема 10. Визуализация данных.Табличные данные.ipynb",
      "provenance": []
    },
    "hide_input": false,
    "kernelspec": {
      "display_name": "Python 3",
      "language": "python",
      "name": "python3"
    },
    "language_info": {
      "codemirror_mode": {
        "name": "ipython",
        "version": 3
      },
      "file_extension": ".py",
      "mimetype": "text/x-python",
      "name": "python",
      "nbconvert_exporter": "python",
      "pygments_lexer": "ipython3",
      "version": "3.10.7"
    },
    "latex_envs": {
      "LaTeX_envs_menu_present": true,
      "autoclose": false,
      "autocomplete": true,
      "bibliofile": "biblio.bib",
      "cite_by": "apalike",
      "current_citInitial": 1,
      "eqLabelWithNumbers": true,
      "eqNumInitial": 1,
      "hotkeys": {
        "equation": "Ctrl-E",
        "itemize": "Ctrl-I"
      },
      "labels_anchors": false,
      "latex_user_defs": false,
      "report_style_numbering": false,
      "user_envs_cfg": false
    },
    "nbTranslate": {
      "displayLangs": [
        "*"
      ],
      "hotkey": "alt-t",
      "langInMainMenu": true,
      "sourceLang": "en",
      "targetLang": "fr",
      "useGoogleTranslate": true
    },
    "toc": {
      "base_numbering": 1,
      "nav_menu": {},
      "number_sections": false,
      "sideBar": true,
      "skip_h1_title": true,
      "title_cell": "Table of Contents",
      "title_sidebar": "Contents",
      "toc_cell": false,
      "toc_position": {},
      "toc_section_display": true,
      "toc_window_display": false
    },
    "varInspector": {
      "cols": {
        "lenName": 16,
        "lenType": 16,
        "lenVar": 40
      },
      "kernels_config": {
        "python": {
          "delete_cmd_postfix": "",
          "delete_cmd_prefix": "del ",
          "library": "var_list.py",
          "varRefreshCmd": "print(var_dic_list())"
        },
        "r": {
          "delete_cmd_postfix": ") ",
          "delete_cmd_prefix": "rm(",
          "library": "var_list.r",
          "varRefreshCmd": "cat(var_dic_list()) "
        }
      },
      "types_to_exclude": [
        "module",
        "function",
        "builtin_function_or_method",
        "instance",
        "_Feature"
      ],
      "window_display": false
    }
  },
  "nbformat": 4,
  "nbformat_minor": 0
}
