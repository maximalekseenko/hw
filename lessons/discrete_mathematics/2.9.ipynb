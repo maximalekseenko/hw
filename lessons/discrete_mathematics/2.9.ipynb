{
  "cells": [
    {
      "cell_type": "code",
      "execution_count": 1,
      "metadata": {},
      "outputs": [],
      "source": [
        "MAKE_GAMMA_COEFFICIENT_A = 5\n",
        "MAKE_GAMMA_COEFFICIENT_B = 11\n",
        "MAKE_GAMMA_COEFFICIENT_M = 0xff\n",
        "\n",
        "make_gamma_last_num = MAKE_GAMMA_COEFFICIENT_M\n",
        "def Make_Gamma(__len:str):\n",
        "    global make_gamma_last_num\n",
        "    \n",
        "    _new_bin_array = []\n",
        "\n",
        "    for _ in range(__len):\n",
        "        make_gamma_last_num = (MAKE_GAMMA_COEFFICIENT_A * make_gamma_last_num + MAKE_GAMMA_COEFFICIENT_B) % MAKE_GAMMA_COEFFICIENT_M\n",
        "        _new_bin_array += list(map(lambda _c: _c=='1', \n",
        "                format(make_gamma_last_num, '08b')))\n",
        "\n",
        "    return _new_bin_array\n",
        "\n",
        "\n",
        "GAMMA_ENCODE_BLOCK_SIZE = 64\n",
        "def Gamma_Encode(__text:str, __key:int=None):\n",
        "    global make_gamma_last_num\n",
        "    if (__key!=None): make_gamma_last_num = __key\n",
        "    _encode_key = make_gamma_last_num\n",
        "\n",
        "    _bin_text = list(map(lambda _c: _c=='1', \n",
        "            ''.join(map(lambda x: format(ord(x), '08b'), __text))))\n",
        "    \n",
        "    _gamma = Make_Gamma(len(__text))\n",
        "\n",
        "    _bin_encoded_text = []\n",
        "    for _index in range(0, len(_bin_text)):\n",
        "        _bin_encoded_text.append(_bin_text[_index] != _gamma[_index])\n",
        "\n",
        "    _bin_encoded_text = ''.join(map(lambda x: '1' if x else '0', _bin_encoded_text))\n",
        "    \n",
        "    _encoded_text = \"\"\n",
        "    for _index in range(0, len(_bin_text), 8):\n",
        "        _encoded_text += chr(int(_bin_encoded_text[_index:_index+8], 2))\n",
        "    \n",
        "    return _encoded_text, _encode_key\n",
        "\n",
        "        \n",
        "\n",
        "\n",
        "def Gamma_Decode(__text:str, __key:int):\n",
        "    return Gamma_Encode(__text, __key)[0]\n",
        "        "
      ]
    },
    {
      "cell_type": "code",
      "execution_count": 2,
      "metadata": {},
      "outputs": [
        {
          "name": "stdout",
          "output_type": "stream",
          "text": [
            "origin:   THE QUICK BROWN FOX JUMPS OVER THE LAZY DOG\n",
            "gamma:    00010101011101000101000110100001\n",
            "encoded:  _\n",
            "\u000eú+ÎÌI­C1\u0003gC\u0007vöñ$Ú¼^Â\n",
            "decoded:  THE QUICK BROWN FOX JUMPS OVER THE LAZY DOG\n"
          ]
        }
      ],
      "source": [
        "TEXT = \"THE QUICK BROWN FOX JUMPS OVER THE LAZY DOG\"\n",
        "\n",
        "encoded_text, key = Gamma_Encode(TEXT)\n",
        "decoded_text = Gamma_Decode(encoded_text, key)\n",
        "\n",
        "print('origin:  ',TEXT)\n",
        "print('gamma:   ', ''.join(map(lambda x: '1' if x else '0', Make_Gamma(4))))\n",
        "print('encoded: ',encoded_text)\n",
        "print('decoded: ',decoded_text)"
      ]
    }
  ],
  "metadata": {
    "colab": {
      "collapsed_sections": [],
      "name": "Тема 10. Визуализация данных.Табличные данные.ipynb",
      "provenance": []
    },
    "hide_input": false,
    "kernelspec": {
      "display_name": "Python 3",
      "language": "python",
      "name": "python3"
    },
    "language_info": {
      "codemirror_mode": {
        "name": "ipython",
        "version": 3
      },
      "file_extension": ".py",
      "mimetype": "text/x-python",
      "name": "python",
      "nbconvert_exporter": "python",
      "pygments_lexer": "ipython3",
      "version": "3.10.7"
    },
    "latex_envs": {
      "LaTeX_envs_menu_present": true,
      "autoclose": false,
      "autocomplete": true,
      "bibliofile": "biblio.bib",
      "cite_by": "apalike",
      "current_citInitial": 1,
      "eqLabelWithNumbers": true,
      "eqNumInitial": 1,
      "hotkeys": {
        "equation": "Ctrl-E",
        "itemize": "Ctrl-I"
      },
      "labels_anchors": false,
      "latex_user_defs": false,
      "report_style_numbering": false,
      "user_envs_cfg": false
    },
    "nbTranslate": {
      "displayLangs": [
        "*"
      ],
      "hotkey": "alt-t",
      "langInMainMenu": true,
      "sourceLang": "en",
      "targetLang": "fr",
      "useGoogleTranslate": true
    },
    "toc": {
      "base_numbering": 1,
      "nav_menu": {},
      "number_sections": false,
      "sideBar": true,
      "skip_h1_title": true,
      "title_cell": "Table of Contents",
      "title_sidebar": "Contents",
      "toc_cell": false,
      "toc_position": {},
      "toc_section_display": true,
      "toc_window_display": false
    },
    "varInspector": {
      "cols": {
        "lenName": 16,
        "lenType": 16,
        "lenVar": 40
      },
      "kernels_config": {
        "python": {
          "delete_cmd_postfix": "",
          "delete_cmd_prefix": "del ",
          "library": "var_list.py",
          "varRefreshCmd": "print(var_dic_list())"
        },
        "r": {
          "delete_cmd_postfix": ") ",
          "delete_cmd_prefix": "rm(",
          "library": "var_list.r",
          "varRefreshCmd": "cat(var_dic_list()) "
        }
      },
      "types_to_exclude": [
        "module",
        "function",
        "builtin_function_or_method",
        "instance",
        "_Feature"
      ],
      "window_display": false
    }
  },
  "nbformat": 4,
  "nbformat_minor": 0
}
