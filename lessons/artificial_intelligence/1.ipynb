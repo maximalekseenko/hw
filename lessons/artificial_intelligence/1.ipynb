{
  "cells": [
    {
      "cell_type": "markdown",
      "metadata": {},
      "source": [
        "## 1.3\n",
        "Выведите на печать и определите тип переменной\n",
        "\n",
        "![code](./img1.png)"
      ]
    },
    {
      "cell_type": "code",
      "execution_count": 12,
      "metadata": {},
      "outputs": [],
      "source": [
        "x = 5 >= 2\n",
        "A = {1, 3, 7, 8}\n",
        "B = {2, 4, 5, 10, 'apple'}\n",
        "C = A & B\n",
        "df = 'Антонова Антонина', 34, 'ж'\n",
        "z = 'type'\n",
        "D = [1, 'title', 2, 'content']"
      ]
    },
    {
      "cell_type": "code",
      "execution_count": 13,
      "metadata": {},
      "outputs": [
        {
          "name": "stdout",
          "output_type": "stream",
          "text": [
            "value: True\n",
            "type: <class 'bool'>\n",
            "\n",
            "value: {8, 1, 3, 7}\n",
            "type: <class 'set'>\n",
            "\n",
            "value: {1, 2, 'apple', 4, 5, 10}\n",
            "type: <class 'set'>\n",
            "\n",
            "value: {1}\n",
            "type: <class 'set'>\n",
            "\n",
            "value: ('Антонова Антонина', 34, 'ж')\n",
            "type: <class 'tuple'>\n",
            "\n",
            "value: type\n",
            "type: <class 'str'>\n",
            "\n",
            "value: [1, 'title', 2, 'content']\n",
            "type: <class 'list'>\n",
            "\n"
          ]
        }
      ],
      "source": [
        "values_to_print = [\n",
        "    x, A, B, C, df, z, D\n",
        "]\n",
        "\n",
        "for _value in values_to_print:\n",
        "    print(\"value:\", _value)\n",
        "    print(\"type:\", type(_value))\n",
        "    print() # newline"
      ]
    },
    {
      "cell_type": "markdown",
      "metadata": {},
      "source": [
        "## 2.3\n",
        "Напишите код. Задается х, напечатать какому из интервалов принадлежит: (-infinity, -5), [-5, 5] или от (5, +infinity)"
      ]
    },
    {
      "cell_type": "code",
      "execution_count": null,
      "metadata": {},
      "outputs": [],
      "source": [
        "X = input(\"input X\")\n",
        "\n",
        "if x < -5:\n",
        "    print(\"x ∈ (-∞, -5)\")\n",
        "elif x > 5:\n",
        "    print(\"x ∈ (5, +∞)\")\n",
        "else:\n",
        "    print(\"x ∈ [-5, 5]\")"
      ]
    },
    {
      "cell_type": "markdown",
      "metadata": {},
      "source": [
        "## 3.3.1\n",
        "Выведите числа из примера на while (3.2.1) в обратном порядке."
      ]
    },
    {
      "cell_type": "code",
      "execution_count": null,
      "metadata": {},
      "outputs": [],
      "source": [
        "x = 10\n",
        "while x >= 1:\n",
        "    print(x)\n",
        "    x -= 3"
      ]
    },
    {
      "cell_type": "markdown",
      "metadata": {},
      "source": [
        "## 3.3.2\n",
        "При решении задач машинного обучения часто в качестве объектов \n",
        "исследования выступает человек. Создайте список значимых \n",
        "характеристик (признаков), идентифицирующих человека. Выведите \n",
        "список на экран."
      ]
    },
    {
      "cell_type": "code",
      "execution_count": null,
      "metadata": {},
      "outputs": [],
      "source": [
        "VALUABLE_CHARACTERISTICS = [\n",
        "    \"Strength\", \"Dexterity\",\n",
        "    \"Constitution\", \"Wisdom\",\n",
        "    \"Intelligence\", \"Charisma\"\n",
        "]\n",
        "\n",
        "for _characteristic in VALUABLE_CHARACTERISTICS:\n",
        "    print(_characteristic)"
      ]
    },
    {
      "cell_type": "markdown",
      "metadata": {},
      "source": [
        "## 3.3.3\n",
        "Создать список чисел от 2 до 15 с шагом 1. "
      ]
    },
    {
      "cell_type": "code",
      "execution_count": null,
      "metadata": {},
      "outputs": [],
      "source": [
        "new_list = list(range(2, 15+1, 1))\n",
        "\n",
        "new_list"
      ]
    },
    {
      "cell_type": "markdown",
      "metadata": {},
      "source": [
        "## 3.3.4\n",
        "Выведите числа из примера на for c функцией range() (3.2.4) в \n",
        "обратном порядке."
      ]
    },
    {
      "cell_type": "code",
      "execution_count": null,
      "metadata": {},
      "outputs": [],
      "source": [
        "for i in range(106-1, 5-1, -25):\n",
        "    print(i)"
      ]
    },
    {
      "cell_type": "markdown",
      "metadata": {},
      "source": [
        "## 3.3.5\n",
        "Срез. Напишите код, который все элементы массива x с четными индексами переставит в обратном порядке. Т.е. если x = [0, 1, 2, 3, 4, 5, 6, 7, 8, 9], то код должен сформировать [8, 1, 6, 3, 4, 5, 2, 7, 0, 9]."
      ]
    },
    {
      "cell_type": "code",
      "execution_count": null,
      "metadata": {},
      "outputs": [],
      "source": [
        "X = [0, 1, 2, 3, 4, 5, 6, 7, 8, 9]\n",
        "\n",
        "_part_even = list(reversed(X[0::2]))\n",
        "_part_odd = X[1::2]\n",
        "\n",
        "new_list = [\n",
        "    _part_even[_index // 2] if _index % 2 == 0\n",
        "    else _part_odd[_index // 2]\n",
        "    for _index in range(0, len(X))\n",
        "]\n",
        "\n",
        "new_list"
      ]
    },
    {
      "cell_type": "code",
      "execution_count": 15,
      "metadata": {},
      "outputs": [
        {
          "data": {
            "text/plain": [
              "[8, 1, 6, 3, 4, 5, 2, 7, 0, 9]"
            ]
          },
          "execution_count": 15,
          "metadata": {},
          "output_type": "execute_result"
        }
      ],
      "source": [
        "X = [0, 1, 2, 3, 4, 5, 6, 7, 8, 9]\n",
        "\n",
        "X[::2]=X[::2][::-1]\n",
        "\n",
        "X"
      ]
    },
    {
      "cell_type": "markdown",
      "metadata": {},
      "source": [
        "## 4 libraries"
      ]
    },
    {
      "cell_type": "code",
      "execution_count": null,
      "metadata": {},
      "outputs": [],
      "source": [
        "! pip install numpy\n",
        "! pip install matplotlib"
      ]
    },
    {
      "cell_type": "code",
      "execution_count": 17,
      "metadata": {},
      "outputs": [],
      "source": [
        "import random\n",
        "import numpy as np\n",
        "from matplotlib import pyplot as plt"
      ]
    },
    {
      "cell_type": "markdown",
      "metadata": {},
      "source": [
        "## 4.3.1\n",
        "Задайте  массив случайных значений из интервала(0; 1).  \n",
        "Рассчитайте  средние  и  медианные  значения для  массива,  сравните \n",
        "результаты, какие выводы можно сделать о значениях?  \n",
        "Постройте точечную диаграмму рассения полученного ряда. "
      ]
    },
    {
      "cell_type": "code",
      "execution_count": 18,
      "metadata": {},
      "outputs": [
        {
          "data": {
            "image/png": "[encoded data removed]",
            "text/plain": [
              "<Figure size 1000x500 with 1 Axes>"
            ]
          },
          "metadata": {},
          "output_type": "display_data"
        }
      ],
      "source": [
        "X_LENGTH = 10\n",
        "\n",
        "y_array = np.random.rand(X_LENGTH)\n",
        "x_array = np.arange(X_LENGTH)\n",
        "\n",
        "plt.figure(figsize = (10, 5))\n",
        "plt.grid()\n",
        "plt.xticks(x_array)\n",
        "plt.scatter(x_array, y_array)\n",
        "for _i in x_array:\n",
        "    plt.annotate(round(y_array[_i], 3), (_i, y_array[_i]))\n",
        "\n",
        "plt.show()"
      ]
    },
    {
      "cell_type": "markdown",
      "metadata": {},
      "source": [
        "## 4.3.2\n",
        "Дана функция \n",
        "$\\dfrac{\\sqrt{1 + e ^ {\\sqrt{x}}} + \\cos{x ^ 2}}{\\vert{1 - \\sin ^ 3{x}}\\vert}$\n",
        "Создать массив из 10 значений \n",
        "функции (𝑥, например, изменяется от 1 до 10). Выделить срез первой \n",
        "половины массива и построить графики для основного массива – \n",
        "линейный и для среза – точечный"
      ]
    },
    {
      "cell_type": "code",
      "execution_count": null,
      "metadata": {},
      "outputs": [],
      "source": [
        "X_LENGTH = 10\n",
        "X_STEP = 0.1\n",
        "\n",
        "x_array = np.arange(0.0, X_LENGTH, X_STEP)\n",
        "y_array = np.divide(\n",
        "    np.add(\n",
        "        np.sqrt(\n",
        "            np.add(1, np.exp(np.sqrt(x_array)))\n",
        "        ),\n",
        "        np.cos(np.power(x_array, 2))\n",
        "    ),\n",
        "    np.abs(\n",
        "        np.subtract(1, np.power(np.sin(x_array), 3))\n",
        "    )\n",
        ")\n",
        "\n",
        "plt.grid()\n",
        "plt.plot(x_array, y_array, c='r')\n",
        "plt.scatter(np.split(x_array,2)[0], np.split(y_array,2)[0], c='b')\n",
        "plt.show()"
      ]
    },
    {
      "cell_type": "markdown",
      "metadata": {},
      "source": [
        "## 4.3.3\n",
        "Дана  функция  $\\vert\\cos(x * e ^ {\\cos{x} + \\ln(x + 1)})\\vert$ Построить  график  на \n",
        "интервале (0,10) с шагом 1 с заливкой площади и найти эту площадь \n",
        "под  ним.  Для  вычисления  площади  воспользуйте  функции  trapz(), \n",
        "вычисляющей интеграл по правилу трапеции. \n",
        "Для  ее  корректной  работы  необходимо  подключить  следующие \n",
        "библиотеки: \n",
        "from scipy.integrate import simps \n",
        "from numpy import trapz"
      ]
    },
    {
      "cell_type": "code",
      "execution_count": null,
      "metadata": {},
      "outputs": [],
      "source": [
        "x_array = np.arange(0, 10)\n",
        "y_array = np.abs(\n",
        "    np.cos(\n",
        "        np.multiply(\n",
        "            x_array,\n",
        "            np.exp(\n",
        "                np.add(\n",
        "                    np.cos(x_array),\n",
        "                    np.log(np.add(x_array, 1))\n",
        "                )\n",
        "            )\n",
        "        )\n",
        "    )\n",
        ")\n",
        "\n",
        "plt.grid()\n",
        "plt.plot(x_array, y_array)\n",
        "plt.fill_between(x_array, y_array, color='#e0e0e0')\n",
        "plt.title(\"P={}\".format(np.trapz(y_array)))\n",
        "plt.show()"
      ]
    },
    {
      "cell_type": "markdown",
      "metadata": {},
      "source": [
        "## 4.3.4\n",
        "Откройте  статистические  данные  по  стоимости  акций  Apple, \n",
        "Microsoft,  Google  за  12  месяцев  2021  г.  Постройте  3  графика  на \n",
        "плоскости и оцените их динамику. Подумайте, как можно улучшить \n",
        "читаемость результатов. \n",
        "Для начальных данных допустимо использовать следующий ресурс: \n",
        "https://finance.yahoo.com"
      ]
    },
    {
      "cell_type": "code",
      "execution_count": null,
      "metadata": {},
      "outputs": [],
      "source": [
        "! pip install yfinance"
      ]
    },
    {
      "cell_type": "code",
      "execution_count": null,
      "metadata": {},
      "outputs": [],
      "source": [
        "import yfinance as yahooFinance"
      ]
    },
    {
      "cell_type": "code",
      "execution_count": null,
      "metadata": {},
      "outputs": [],
      "source": [
        "DATA = [\n",
        "    [\n",
        "        \"AAPL\",\n",
        "        yahooFinance.Ticker(\"AAPL\").history(period=\"12mo\"),\n",
        "        \"g\"\n",
        "    ],\n",
        "    [\n",
        "        \"MSFT\",\n",
        "        yahooFinance.Ticker(\"MSFT\").history(period=\"12mo\"),\n",
        "        \"b\"\n",
        "    ],\n",
        "    [\n",
        "        \"GOOG\",\n",
        "        yahooFinance.Ticker(\"GOOG\").history(period=\"12mo\"),\n",
        "        \"r\"\n",
        "    ]\n",
        "]"
      ]
    },
    {
      "cell_type": "code",
      "execution_count": null,
      "metadata": {},
      "outputs": [],
      "source": [
        "plt.grid()\n",
        "\n",
        "for name, data, color in DATA:\n",
        "    plt.plot(data.index, data, c=color)\n",
        "\n",
        "plt.show()"
      ]
    },
    {
      "cell_type": "markdown",
      "metadata": {},
      "source": [
        "## 4.3.5\n",
        "Создайте простейший калькулятор, включающий основные действия \n",
        "для  двух  переменных ′+′,′−′,′∙′,′÷′,  а  также  вычисление \n",
        "следующих функций: $e ^ x + y$, $\\sin(x+y)$,$\\cos(x+y)$,$x ^ y$."
      ]
    },
    {
      "cell_type": "code",
      "execution_count": null,
      "metadata": {},
      "outputs": [],
      "source": [
        "import math"
      ]
    },
    {
      "cell_type": "code",
      "execution_count": null,
      "metadata": {},
      "outputs": [],
      "source": [
        "def Action(__req:str, _num1:float, _num2:float) -> float:\n",
        "    if __req == '+': return _num1 + _num2\n",
        "    if __req == '-': return _num1 - _num2\n",
        "    if __req == '*': return _num1 * _num2\n",
        "    if __req == '/': return _num1 / _num2\n",
        "\n",
        "    if __req == 'e^+': return math.exp(_num1 + _num2)\n",
        "    if __req == 'sin+': return math.sin(_num1 + _num2)\n",
        "    if __req == 'cos+': return math.cos(_num1 / _num2)\n",
        "    if __req == '^': return _num1 ** _num2\n",
        "\n",
        "    return f\"req '{__req}' not found\\ntry next: '+', '-', '*', '/', 'e^', 'sin+', 'cos+', '^' \"\n",
        "\n",
        "def Run():\n",
        "    _input = \"\"\n",
        "    while _input != []:\n",
        "        _input = input(\"input: req, num1, num1. with space separation\")\n",
        "\n",
        "        _input = _input.split()\n",
        "    \n",
        "        if len(_input) != 3: continue\n",
        "\n",
        "        try:\n",
        "            _input[1] = float(_input[1])\n",
        "            _input[2] = float(_input[2])\n",
        "        except ValueError: continue\n",
        "\n",
        "        print(Action(*_input))\n",
        "\n"
      ]
    },
    {
      "cell_type": "code",
      "execution_count": null,
      "metadata": {},
      "outputs": [],
      "source": [
        "Run()"
      ]
    }
  ],
  "metadata": {
    "colab": {
      "collapsed_sections": [],
      "name": "Тема 10. Визуализация данных.Табличные данные.ipynb",
      "provenance": []
    },
    "hide_input": false,
    "kernelspec": {
      "display_name": "Python 3",
      "language": "python",
      "name": "python3"
    },
    "language_info": {
      "codemirror_mode": {
        "name": "ipython",
        "version": 3
      },
      "file_extension": ".py",
      "mimetype": "text/x-python",
      "name": "python",
      "nbconvert_exporter": "python",
      "pygments_lexer": "ipython3",
      "version": "3.10.7"
    },
    "latex_envs": {
      "LaTeX_envs_menu_present": true,
      "autoclose": false,
      "autocomplete": true,
      "bibliofile": "biblio.bib",
      "cite_by": "apalike",
      "current_citInitial": 1,
      "eqLabelWithNumbers": true,
      "eqNumInitial": 1,
      "hotkeys": {
        "equation": "Ctrl-E",
        "itemize": "Ctrl-I"
      },
      "labels_anchors": false,
      "latex_user_defs": false,
      "report_style_numbering": false,
      "user_envs_cfg": false
    },
    "nbTranslate": {
      "displayLangs": [
        "*"
      ],
      "hotkey": "alt-t",
      "langInMainMenu": true,
      "sourceLang": "en",
      "targetLang": "fr",
      "useGoogleTranslate": true
    },
    "toc": {
      "base_numbering": 1,
      "nav_menu": {},
      "number_sections": false,
      "sideBar": true,
      "skip_h1_title": true,
      "title_cell": "Table of Contents",
      "title_sidebar": "Contents",
      "toc_cell": false,
      "toc_position": {},
      "toc_section_display": true,
      "toc_window_display": false
    },
    "varInspector": {
      "cols": {
        "lenName": 16,
        "lenType": 16,
        "lenVar": 40
      },
      "kernels_config": {
        "python": {
          "delete_cmd_postfix": "",
          "delete_cmd_prefix": "del ",
          "library": "var_list.py",
          "varRefreshCmd": "print(var_dic_list())"
        },
        "r": {
          "delete_cmd_postfix": ") ",
          "delete_cmd_prefix": "rm(",
          "library": "var_list.r",
          "varRefreshCmd": "cat(var_dic_list()) "
        }
      },
      "types_to_exclude": [
        "module",
        "function",
        "builtin_function_or_method",
        "instance",
        "_Feature"
      ],
      "window_display": false
    }
  },
  "nbformat": 4,
  "nbformat_minor": 0
}
